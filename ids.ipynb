{
  "nbformat": 4,
  "nbformat_minor": 0,
  "metadata": {
    "colab": {
      "provenance": [],
      "authorship_tag": "ABX9TyNQwm11gZJMZxxicAjTEz/Y",
      "include_colab_link": true
    },
    "kernelspec": {
      "name": "python3",
      "display_name": "Python 3"
    },
    "language_info": {
      "name": "python"
    }
  },
  "cells": [
    {
      "cell_type": "markdown",
      "metadata": {
        "id": "view-in-github",
        "colab_type": "text"
      },
      "source": [
        "<a href=\"https://colab.research.google.com/github/Ihalagedara/intrudion-detection-systen-using-SDN/blob/main/ids.ipynb\" target=\"_parent\"><img src=\"https://colab.research.google.com/assets/colab-badge.svg\" alt=\"Open In Colab\"/></a>"
      ]
    },
    {
      "cell_type": "code",
      "execution_count": 379,
      "metadata": {
        "colab": {
          "base_uri": "https://localhost:8080/"
        },
        "id": "hzzG3oAd4z_j",
        "outputId": "7108b497-da8f-4ab7-d15a-81b43e2a672c"
      },
      "outputs": [
        {
          "output_type": "stream",
          "name": "stdout",
          "text": [
            "Drive already mounted at /content/drive; to attempt to forcibly remount, call drive.mount(\"/content/drive\", force_remount=True).\n"
          ]
        }
      ],
      "source": [
        "from google.colab import drive\n",
        "drive.mount('/content/drive')"
      ]
    },
    {
      "cell_type": "code",
      "source": [
        "import numpy as np\n",
        "import pandas as pd\n",
        "import matplotlib.pyplot as plt\n",
        "from sklearn.preprocessing import StandardScaler\n",
        "from imblearn.over_sampling import RandomOverSampler\n",
        "from sklearn.metrics import mean_absolute_error\n",
        "from sklearn.model_selection import train_test_split\n",
        "from sklearn.metrics import accuracy_score\n",
        "from keras.models import Sequential\n",
        "from keras.layers import Dense\n",
        "\n",
        "from sklearn.metrics import classification_report\n",
        "from sklearn.ensemble import RandomForestRegressor\n",
        "from sklearn.linear_model import LogisticRegression\n",
        "import xgboost as xgb"
      ],
      "metadata": {
        "id": "30wkKSXp45uq"
      },
      "execution_count": 380,
      "outputs": []
    },
    {
      "cell_type": "code",
      "source": [
        "df_train = pd.read_csv('/content/drive/MyDrive/FYP ML/DATA/train_improved.csv', sep=\",\")\n",
        "#df_train = df_train[df_train.columns[:-1]]\n",
        "df_test = pd.read_csv('/content/drive/MyDrive/FYP ML/DATA/test_imp.csv', index_col=0)\n",
        "#df_test = df_test[df_test.columns[:-1]]\n",
        "titles = pd.read_csv('/content/drive/MyDrive/FYP ML/DATA/Field Names.csv', header=None)\n",
        "#titles = titles[titles.columns[:-1]]\n",
        "attack = pd.read_csv('/content/drive/MyDrive/FYP ML/DATA/Attack Types.csv', sep=\",\",header=None)\n",
        "df_test_original = df_test\n",
        "df_train_original = df_train\n",
        "df_train = df_train.drop([\"protocol_type\", \"service\", \"flag\"],axis=1)\n",
        "df_test_original = df_test_original.drop([\"protocol_type\", \"service\", \"flag\"],axis=1)\n",
        "df_test = df_test.drop([\"protocol_type\", \"service\", \"flag\"],axis=1)\n",
        "df_train_original = df_train_original.drop([\"protocol_type\", \"service\", \"flag\"],axis=1)"
      ],
      "metadata": {
        "id": "umEuwMt_46NJ"
      },
      "execution_count": 381,
      "outputs": []
    },
    {
      "cell_type": "markdown",
      "source": [
        "# dos"
      ],
      "metadata": {
        "id": "hMYFQ4ma9BWg"
      }
    },
    {
      "cell_type": "code",
      "source": [
        "dos_df_train = df_train"
      ],
      "metadata": {
        "id": "qz0esB-hFBjS"
      },
      "execution_count": 382,
      "outputs": []
    },
    {
      "cell_type": "code",
      "source": [
        "dos_df_test = df_test"
      ],
      "metadata": {
        "id": "TmJmWYJsFBWi"
      },
      "execution_count": 383,
      "outputs": []
    },
    {
      "cell_type": "code",
      "source": [
        "for i in range(len(df_train)):\n",
        "  if df_train[\"label\"][i] == \"normal\":\n",
        "    dos_df_train[\"label\"][i] = 1\n",
        "  elif df_train[\"label\"][i] == \"dos\":\n",
        "    dos_df_train[\"label\"][i] = 0\n",
        "  elif df_train[\"label\"][i] == \"r2l\":\n",
        "    dos_df_train[\"label\"][i] = 1\n",
        "  elif df_train[\"label\"][i] == \"probe\":\n",
        "    dos_df_train[\"label\"][i] = 1\n",
        "  elif df_train[\"label\"][i] == \"u2r\":\n",
        "    dos_df_train[\"label\"][i] = 1\n",
        "  else:\n",
        "    dos_df_train[\"label\"][i] = 1"
      ],
      "metadata": {
        "id": "zjjFzNqP5JWg",
        "colab": {
          "base_uri": "https://localhost:8080/"
        },
        "outputId": "c56cc046-7f18-4551-b3af-9fd1c317dd13"
      },
      "execution_count": 384,
      "outputs": [
        {
          "output_type": "stream",
          "name": "stderr",
          "text": [
            "<ipython-input-384-db6b4ed86e91>:3: SettingWithCopyWarning: \n",
            "A value is trying to be set on a copy of a slice from a DataFrame\n",
            "\n",
            "See the caveats in the documentation: https://pandas.pydata.org/pandas-docs/stable/user_guide/indexing.html#returning-a-view-versus-a-copy\n",
            "  dos_df_train[\"label\"][i] = 1\n",
            "<ipython-input-384-db6b4ed86e91>:5: SettingWithCopyWarning: \n",
            "A value is trying to be set on a copy of a slice from a DataFrame\n",
            "\n",
            "See the caveats in the documentation: https://pandas.pydata.org/pandas-docs/stable/user_guide/indexing.html#returning-a-view-versus-a-copy\n",
            "  dos_df_train[\"label\"][i] = 0\n",
            "<ipython-input-384-db6b4ed86e91>:7: SettingWithCopyWarning: \n",
            "A value is trying to be set on a copy of a slice from a DataFrame\n",
            "\n",
            "See the caveats in the documentation: https://pandas.pydata.org/pandas-docs/stable/user_guide/indexing.html#returning-a-view-versus-a-copy\n",
            "  dos_df_train[\"label\"][i] = 1\n",
            "<ipython-input-384-db6b4ed86e91>:9: SettingWithCopyWarning: \n",
            "A value is trying to be set on a copy of a slice from a DataFrame\n",
            "\n",
            "See the caveats in the documentation: https://pandas.pydata.org/pandas-docs/stable/user_guide/indexing.html#returning-a-view-versus-a-copy\n",
            "  dos_df_train[\"label\"][i] = 1\n",
            "<ipython-input-384-db6b4ed86e91>:11: SettingWithCopyWarning: \n",
            "A value is trying to be set on a copy of a slice from a DataFrame\n",
            "\n",
            "See the caveats in the documentation: https://pandas.pydata.org/pandas-docs/stable/user_guide/indexing.html#returning-a-view-versus-a-copy\n",
            "  dos_df_train[\"label\"][i] = 1\n",
            "<ipython-input-384-db6b4ed86e91>:13: SettingWithCopyWarning: \n",
            "A value is trying to be set on a copy of a slice from a DataFrame\n",
            "\n",
            "See the caveats in the documentation: https://pandas.pydata.org/pandas-docs/stable/user_guide/indexing.html#returning-a-view-versus-a-copy\n",
            "  dos_df_train[\"label\"][i] = 1\n"
          ]
        }
      ]
    },
    {
      "cell_type": "code",
      "source": [
        "for i in range(len(df_test)):\n",
        "  if df_test[\"label\"][i] == \"normal\":\n",
        "    dos_df_test[\"label\"][i] = 1\n",
        "  elif df_test[\"label\"][i] == \"dos\":\n",
        "    dos_df_test[\"label\"][i] = 0\n",
        "  elif df_test[\"label\"][i] == \"r2l\":\n",
        "    dos_df_test[\"label\"][i] = 1\n",
        "  elif df_test[\"label\"][i] == \"probe\":\n",
        "    dos_df_test[\"label\"][i] = 1\n",
        "  elif df_test[\"label\"][i] == \"u2r\":\n",
        "    dos_df_test[\"label\"][i] = 1\n",
        "  else:\n",
        "    dos_df_test[\"label\"][i] = 1"
      ],
      "metadata": {
        "id": "Fy4o-t4l5Q5R",
        "colab": {
          "base_uri": "https://localhost:8080/"
        },
        "outputId": "a3b098f8-578f-42e1-e3f6-89f4a80a12f0"
      },
      "execution_count": 385,
      "outputs": [
        {
          "output_type": "stream",
          "name": "stderr",
          "text": [
            "<ipython-input-385-09d8ece4e0bb>:5: SettingWithCopyWarning: \n",
            "A value is trying to be set on a copy of a slice from a DataFrame\n",
            "\n",
            "See the caveats in the documentation: https://pandas.pydata.org/pandas-docs/stable/user_guide/indexing.html#returning-a-view-versus-a-copy\n",
            "  dos_df_test[\"label\"][i] = 0\n",
            "<ipython-input-385-09d8ece4e0bb>:3: SettingWithCopyWarning: \n",
            "A value is trying to be set on a copy of a slice from a DataFrame\n",
            "\n",
            "See the caveats in the documentation: https://pandas.pydata.org/pandas-docs/stable/user_guide/indexing.html#returning-a-view-versus-a-copy\n",
            "  dos_df_test[\"label\"][i] = 1\n",
            "<ipython-input-385-09d8ece4e0bb>:13: SettingWithCopyWarning: \n",
            "A value is trying to be set on a copy of a slice from a DataFrame\n",
            "\n",
            "See the caveats in the documentation: https://pandas.pydata.org/pandas-docs/stable/user_guide/indexing.html#returning-a-view-versus-a-copy\n",
            "  dos_df_test[\"label\"][i] = 1\n",
            "<ipython-input-385-09d8ece4e0bb>:7: SettingWithCopyWarning: \n",
            "A value is trying to be set on a copy of a slice from a DataFrame\n",
            "\n",
            "See the caveats in the documentation: https://pandas.pydata.org/pandas-docs/stable/user_guide/indexing.html#returning-a-view-versus-a-copy\n",
            "  dos_df_test[\"label\"][i] = 1\n",
            "<ipython-input-385-09d8ece4e0bb>:9: SettingWithCopyWarning: \n",
            "A value is trying to be set on a copy of a slice from a DataFrame\n",
            "\n",
            "See the caveats in the documentation: https://pandas.pydata.org/pandas-docs/stable/user_guide/indexing.html#returning-a-view-versus-a-copy\n",
            "  dos_df_test[\"label\"][i] = 1\n",
            "<ipython-input-385-09d8ece4e0bb>:11: SettingWithCopyWarning: \n",
            "A value is trying to be set on a copy of a slice from a DataFrame\n",
            "\n",
            "See the caveats in the documentation: https://pandas.pydata.org/pandas-docs/stable/user_guide/indexing.html#returning-a-view-versus-a-copy\n",
            "  dos_df_test[\"label\"][i] = 1\n"
          ]
        }
      ]
    },
    {
      "cell_type": "code",
      "source": [
        "dos_df_train[\"label\"].unique()"
      ],
      "metadata": {
        "colab": {
          "base_uri": "https://localhost:8080/"
        },
        "id": "hXMbXden5Tnp",
        "outputId": "593cc4da-58e0-40fd-aba2-af04bb5cd35e"
      },
      "execution_count": 386,
      "outputs": [
        {
          "output_type": "execute_result",
          "data": {
            "text/plain": [
              "array([1, 0], dtype=object)"
            ]
          },
          "metadata": {},
          "execution_count": 386
        }
      ]
    },
    {
      "cell_type": "code",
      "source": [
        "dos_df_test[\"label\"].unique()"
      ],
      "metadata": {
        "colab": {
          "base_uri": "https://localhost:8080/"
        },
        "id": "wwHoeAlP80bu",
        "outputId": "b71b510c-2b2e-445d-ea77-9710976cca1e"
      },
      "execution_count": 387,
      "outputs": [
        {
          "output_type": "execute_result",
          "data": {
            "text/plain": [
              "array([0, 1], dtype=object)"
            ]
          },
          "metadata": {},
          "execution_count": 387
        }
      ]
    },
    {
      "cell_type": "code",
      "source": [
        "dos_x_train = dos_df_train[dos_df_train.columns[:-1]].values\n",
        "dos_y_train = dos_df_train[dos_df_train.columns[-1]].values.astype('int')\n",
        "dos_x_test = dos_df_test[dos_df_test.columns[:-1]].values\n",
        "dos_y_test = dos_df_test[dos_df_test.columns[-1]].values.astype('int')"
      ],
      "metadata": {
        "id": "h1ON_UrH6izc"
      },
      "execution_count": 388,
      "outputs": []
    },
    {
      "cell_type": "code",
      "source": [
        "scaler = StandardScaler()\n",
        "dos_x_train = scaler.fit_transform(dos_x_train)\n",
        "dos_x_test = scaler.transform(dos_x_test)"
      ],
      "metadata": {
        "id": "4HRlwJaP65d5"
      },
      "execution_count": 389,
      "outputs": []
    },
    {
      "cell_type": "code",
      "source": [
        "num=[]\n",
        "for i in range(dos_x_test.shape[0]):\n",
        "    num.append(i+1)"
      ],
      "metadata": {
        "id": "2K4XVV08E1nZ"
      },
      "execution_count": 390,
      "outputs": []
    },
    {
      "cell_type": "markdown",
      "source": [
        "## Log Regresion"
      ],
      "metadata": {
        "id": "THe8iDUo8IzB"
      }
    },
    {
      "cell_type": "code",
      "source": [
        "lg_model = LogisticRegression()\n",
        "lg_model = lg_model.fit(dos_x_train, dos_y_train)"
      ],
      "metadata": {
        "colab": {
          "base_uri": "https://localhost:8080/"
        },
        "id": "n80UYh6r8M6K",
        "outputId": "fc98484c-6cf5-44ca-e9f2-b018bec7adbc"
      },
      "execution_count": 391,
      "outputs": [
        {
          "output_type": "stream",
          "name": "stderr",
          "text": [
            "/usr/local/lib/python3.9/dist-packages/sklearn/linear_model/_logistic.py:458: ConvergenceWarning: lbfgs failed to converge (status=1):\n",
            "STOP: TOTAL NO. of ITERATIONS REACHED LIMIT.\n",
            "\n",
            "Increase the number of iterations (max_iter) or scale the data as shown in:\n",
            "    https://scikit-learn.org/stable/modules/preprocessing.html\n",
            "Please also refer to the documentation for alternative solver options:\n",
            "    https://scikit-learn.org/stable/modules/linear_model.html#logistic-regression\n",
            "  n_iter_i = _check_optimize_result(\n"
          ]
        }
      ]
    },
    {
      "cell_type": "code",
      "source": [
        "dos_lr_y_pred = lg_model.predict(dos_x_test)"
      ],
      "metadata": {
        "id": "HcDMxQ-28cFV"
      },
      "execution_count": 392,
      "outputs": []
    },
    {
      "cell_type": "code",
      "source": [
        "print(classification_report(dos_y_test, dos_lr_y_pred))\n",
        "dos_lr_mae = mean_absolute_error(dos_y_test, dos_lr_y_pred)\n",
        "print(\"Error: \" + str(dos_lr_mae))\n",
        "dos_lr_acc = accuracy_score(dos_y_test, dos_lr_y_pred)\n",
        "print(\"Accuracy: \" + str(dos_lr_acc))"
      ],
      "metadata": {
        "colab": {
          "base_uri": "https://localhost:8080/"
        },
        "id": "7AwTTHS58hxg",
        "outputId": "1ee9e8ce-ecd3-4646-fc4e-8eceb5864e86"
      },
      "execution_count": 393,
      "outputs": [
        {
          "output_type": "stream",
          "name": "stdout",
          "text": [
            "              precision    recall  f1-score   support\n",
            "\n",
            "           0       0.87      0.93      0.90      5741\n",
            "           1       0.98      0.95      0.96     16802\n",
            "\n",
            "    accuracy                           0.95     22543\n",
            "   macro avg       0.92      0.94      0.93     22543\n",
            "weighted avg       0.95      0.95      0.95     22543\n",
            "\n",
            "Error: 0.052832364813911195\n",
            "Accuracy: 0.9471676351860888\n"
          ]
        }
      ]
    },
    {
      "cell_type": "code",
      "source": [
        "plt.subplot(121)\n",
        "plt.scatter(num,dos_y_test,label=\"Actual\", s=10, color = 'red', alpha=1)\n",
        "plt.subplot(122)\n",
        "plt.scatter(num,dos_lr_y_pred,label=\"Predicted\", s=10, color = 'blue', alpha=1)\n",
        "plt.suptitle(\"Log Regression\")"
      ],
      "metadata": {
        "colab": {
          "base_uri": "https://localhost:8080/",
          "height": 0
        },
        "id": "ri4uLzC88iQp",
        "outputId": "f4e37a4e-d02d-4238-c869-039c11e9e01c"
      },
      "execution_count": 394,
      "outputs": [
        {
          "output_type": "execute_result",
          "data": {
            "text/plain": [
              "Text(0.5, 0.98, 'Log Regression')"
            ]
          },
          "metadata": {},
          "execution_count": 394
        },
        {
          "output_type": "display_data",
          "data": {
            "text/plain": [
              "<Figure size 432x288 with 2 Axes>"
            ],
            "image/png": "[encoded data removed]"
          },
          "metadata": {
            "needs_background": "light"
          }
        }
      ]
    },
    {
      "cell_type": "markdown",
      "source": [
        "## XGBoost"
      ],
      "metadata": {
        "id": "ncipCyRSAAYQ"
      }
    },
    {
      "cell_type": "code",
      "source": [
        "xgb_model = xgb.XGBClassifier()\n",
        "xgb_model.fit(dos_x_train, dos_y_train)"
      ],
      "metadata": {
        "colab": {
          "base_uri": "https://localhost:8080/",
          "height": 0
        },
        "id": "sQW0pay7__r-",
        "outputId": "f414f001-3e6e-4c7d-a6dd-c31221c8b7db"
      },
      "execution_count": 395,
      "outputs": [
        {
          "output_type": "execute_result",
          "data": {
            "text/plain": [
              "XGBClassifier(base_score=None, booster=None, callbacks=None,\n",
              "              colsample_bylevel=None, colsample_bynode=None,\n",
              "              colsample_bytree=None, early_stopping_rounds=None,\n",
              "              enable_categorical=False, eval_metric=None, feature_types=None,\n",
              "              gamma=None, gpu_id=None, grow_policy=None, importance_type=None,\n",
              "              interaction_constraints=None, learning_rate=None, max_bin=None,\n",
              "              max_cat_threshold=None, max_cat_to_onehot=None,\n",
              "              max_delta_step=None, max_depth=None, max_leaves=None,\n",
              "              min_child_weight=None, missing=nan, monotone_constraints=None,\n",
              "              n_estimators=100, n_jobs=None, num_parallel_tree=None,\n",
              "              predictor=None, random_state=None, ...)"
            ],
            "text/html": [
              "<style>#sk-container-id-11 {color: black;background-color: white;}#sk-container-id-11 pre{padding: 0;}#sk-container-id-11 div.sk-toggleable {background-color: white;}#sk-container-id-11 label.sk-toggleable__label {cursor: pointer;display: block;width: 100%;margin-bottom: 0;padding: 0.3em;box-sizing: border-box;text-align: center;}#sk-container-id-11 label.sk-toggleable__label-arrow:before {content: \"▸\";float: left;margin-right: 0.25em;color: #696969;}#sk-container-id-11 label.sk-toggleable__label-arrow:hover:before {color: black;}#sk-container-id-11 div.sk-estimator:hover label.sk-toggleable__label-arrow:before {color: black;}#sk-container-id-11 div.sk-toggleable__content {max-height: 0;max-width: 0;overflow: hidden;text-align: left;background-color: #f0f8ff;}#sk-container-id-11 div.sk-toggleable__content pre {margin: 0.2em;color: black;border-radius: 0.25em;background-color: #f0f8ff;}#sk-container-id-11 input.sk-toggleable__control:checked~div.sk-toggleable__content {max-height: 200px;max-width: 100%;overflow: auto;}#sk-container-id-11 input.sk-toggleable__control:checked~label.sk-toggleable__label-arrow:before {content: \"▾\";}#sk-container-id-11 div.sk-estimator input.sk-toggleable__control:checked~label.sk-toggleable__label {background-color: #d4ebff;}#sk-container-id-11 div.sk-label input.sk-toggleable__control:checked~label.sk-toggleable__label {background-color: #d4ebff;}#sk-container-id-11 input.sk-hidden--visually {border: 0;clip: rect(1px 1px 1px 1px);clip: rect(1px, 1px, 1px, 1px);height: 1px;margin: -1px;overflow: hidden;padding: 0;position: absolute;width: 1px;}#sk-container-id-11 div.sk-estimator {font-family: monospace;background-color: #f0f8ff;border: 1px dotted black;border-radius: 0.25em;box-sizing: border-box;margin-bottom: 0.5em;}#sk-container-id-11 div.sk-estimator:hover {background-color: #d4ebff;}#sk-container-id-11 div.sk-parallel-item::after {content: \"\";width: 100%;border-bottom: 1px solid gray;flex-grow: 1;}#sk-container-id-11 div.sk-label:hover label.sk-toggleable__label {background-color: #d4ebff;}#sk-container-id-11 div.sk-serial::before {content: \"\";position: absolute;border-left: 1px solid gray;box-sizing: border-box;top: 0;bottom: 0;left: 50%;z-index: 0;}#sk-container-id-11 div.sk-serial {display: flex;flex-direction: column;align-items: center;background-color: white;padding-right: 0.2em;padding-left: 0.2em;position: relative;}#sk-container-id-11 div.sk-item {position: relative;z-index: 1;}#sk-container-id-11 div.sk-parallel {display: flex;align-items: stretch;justify-content: center;background-color: white;position: relative;}#sk-container-id-11 div.sk-item::before, #sk-container-id-11 div.sk-parallel-item::before {content: \"\";position: absolute;border-left: 1px solid gray;box-sizing: border-box;top: 0;bottom: 0;left: 50%;z-index: -1;}#sk-container-id-11 div.sk-parallel-item {display: flex;flex-direction: column;z-index: 1;position: relative;background-color: white;}#sk-container-id-11 div.sk-parallel-item:first-child::after {align-self: flex-end;width: 50%;}#sk-container-id-11 div.sk-parallel-item:last-child::after {align-self: flex-start;width: 50%;}#sk-container-id-11 div.sk-parallel-item:only-child::after {width: 0;}#sk-container-id-11 div.sk-dashed-wrapped {border: 1px dashed gray;margin: 0 0.4em 0.5em 0.4em;box-sizing: border-box;padding-bottom: 0.4em;background-color: white;}#sk-container-id-11 div.sk-label label {font-family: monospace;font-weight: bold;display: inline-block;line-height: 1.2em;}#sk-container-id-11 div.sk-label-container {text-align: center;}#sk-container-id-11 div.sk-container {/* jupyter's `normalize.less` sets `[hidden] { display: none; }` but bootstrap.min.css set `[hidden] { display: none !important; }` so we also need the `!important` here to be able to override the default hidden behavior on the sphinx rendered scikit-learn.org. See: https://github.com/scikit-learn/scikit-learn/issues/21755 */display: inline-block !important;position: relative;}#sk-container-id-11 div.sk-text-repr-fallback {display: none;}</style><div id=\"sk-container-id-11\" class=\"sk-top-container\"><div class=\"sk-text-repr-fallback\"><pre>XGBClassifier(base_score=None, booster=None, callbacks=None,\n",
              "              colsample_bylevel=None, colsample_bynode=None,\n",
              "              colsample_bytree=None, early_stopping_rounds=None,\n",
              "              enable_categorical=False, eval_metric=None, feature_types=None,\n",
              "              gamma=None, gpu_id=None, grow_policy=None, importance_type=None,\n",
              "              interaction_constraints=None, learning_rate=None, max_bin=None,\n",
              "              max_cat_threshold=None, max_cat_to_onehot=None,\n",
              "              max_delta_step=None, max_depth=None, max_leaves=None,\n",
              "              min_child_weight=None, missing=nan, monotone_constraints=None,\n",
              "              n_estimators=100, n_jobs=None, num_parallel_tree=None,\n",
              "              predictor=None, random_state=None, ...)</pre><b>In a Jupyter environment, please rerun this cell to show the HTML representation or trust the notebook. <br />On GitHub, the HTML representation is unable to render, please try loading this page with nbviewer.org.</b></div><div class=\"sk-container\" hidden><div class=\"sk-item\"><div class=\"sk-estimator sk-toggleable\"><input class=\"sk-toggleable__control sk-hidden--visually\" id=\"sk-estimator-id-11\" type=\"checkbox\" checked><label for=\"sk-estimator-id-11\" class=\"sk-toggleable__label sk-toggleable__label-arrow\">XGBClassifier</label><div class=\"sk-toggleable__content\"><pre>XGBClassifier(base_score=None, booster=None, callbacks=None,\n",
              "              colsample_bylevel=None, colsample_bynode=None,\n",
              "              colsample_bytree=None, early_stopping_rounds=None,\n",
              "              enable_categorical=False, eval_metric=None, feature_types=None,\n",
              "              gamma=None, gpu_id=None, grow_policy=None, importance_type=None,\n",
              "              interaction_constraints=None, learning_rate=None, max_bin=None,\n",
              "              max_cat_threshold=None, max_cat_to_onehot=None,\n",
              "              max_delta_step=None, max_depth=None, max_leaves=None,\n",
              "              min_child_weight=None, missing=nan, monotone_constraints=None,\n",
              "              n_estimators=100, n_jobs=None, num_parallel_tree=None,\n",
              "              predictor=None, random_state=None, ...)</pre></div></div></div></div></div>"
            ]
          },
          "metadata": {},
          "execution_count": 395
        }
      ]
    },
    {
      "cell_type": "code",
      "source": [
        "dos_xgb_y_pred = xgb_model.predict(dos_x_test)"
      ],
      "metadata": {
        "id": "GMgLLFYKAKx-"
      },
      "execution_count": 396,
      "outputs": []
    },
    {
      "cell_type": "code",
      "source": [
        "print(classification_report(dos_y_test, dos_xgb_y_pred))\n",
        "dos_xgb_mae = mean_absolute_error(dos_y_test, dos_xgb_y_pred)\n",
        "print(\"Error: \" + str(dos_xgb_mae))\n",
        "dos_xgb_acc = accuracy_score(dos_y_test, dos_xgb_y_pred)\n",
        "print(\"Accuracy: \" + str(dos_xgb_acc))"
      ],
      "metadata": {
        "colab": {
          "base_uri": "https://localhost:8080/"
        },
        "id": "HWcDITfyAPei",
        "outputId": "9189bd7d-9e11-48a3-c4e7-58060b44003e"
      },
      "execution_count": 397,
      "outputs": [
        {
          "output_type": "stream",
          "name": "stdout",
          "text": [
            "              precision    recall  f1-score   support\n",
            "\n",
            "           0       0.99      0.95      0.97      5741\n",
            "           1       0.98      1.00      0.99     16802\n",
            "\n",
            "    accuracy                           0.98     22543\n",
            "   macro avg       0.99      0.97      0.98     22543\n",
            "weighted avg       0.98      0.98      0.98     22543\n",
            "\n",
            "Error: 0.01508228718449186\n",
            "Accuracy: 0.9849177128155081\n"
          ]
        }
      ]
    },
    {
      "cell_type": "code",
      "source": [
        "plt.subplot(121)\n",
        "plt.scatter(num,dos_y_test,label=\"Actual\", s=10, color = 'red', alpha=1)\n",
        "plt.subplot(122)\n",
        "plt.scatter(num,dos_xgb_y_pred,label=\"Predicted\", s=10, color = 'blue', alpha=1)\n",
        "plt.suptitle(\"XGBoost\")"
      ],
      "metadata": {
        "colab": {
          "base_uri": "https://localhost:8080/",
          "height": 0
        },
        "id": "apoJzhJRATmM",
        "outputId": "cc692f95-67c7-4b77-e1bd-97107e9f34cc"
      },
      "execution_count": 398,
      "outputs": [
        {
          "output_type": "execute_result",
          "data": {
            "text/plain": [
              "Text(0.5, 0.98, 'XGBoost')"
            ]
          },
          "metadata": {},
          "execution_count": 398
        },
        {
          "output_type": "display_data",
          "data": {
            "text/plain": [
              "<Figure size 432x288 with 2 Axes>"
            ],
            "image/png": "[encoded data removed]"
          },
          "metadata": {
            "needs_background": "light"
          }
        }
      ]
    },
    {
      "cell_type": "code",
      "source": [
        "randommeanlist = [dos_lr_acc*100, dos_xgb_acc*100]\n",
        "namerandom = ['Log regression', 'XGBoost']\n",
        "# Graph for RandomForest Nonscaled vs NonScaled data:\n",
        "plt.bar(namerandom,randommeanlist)\n",
        "plt.title(\"DDOS\")\n",
        "plt.xlabel(\"Data\")\n",
        "plt.ylabel(\"Accuracy\")"
      ],
      "metadata": {
        "colab": {
          "base_uri": "https://localhost:8080/",
          "height": 0
        },
        "id": "QMA0xfU2AvCj",
        "outputId": "e03fbed2-71b7-46cf-d947-cec26c0ba51b"
      },
      "execution_count": 399,
      "outputs": [
        {
          "output_type": "execute_result",
          "data": {
            "text/plain": [
              "Text(0, 0.5, 'Accuracy')"
            ]
          },
          "metadata": {},
          "execution_count": 399
        },
        {
          "output_type": "display_data",
          "data": {
            "text/plain": [
              "<Figure size 432x288 with 1 Axes>"
            ],
            "image/png": "[encoded data removed]"
          },
          "metadata": {
            "needs_background": "light"
          }
        }
      ]
    },
    {
      "cell_type": "code",
      "source": [
        "randommeanlist = [dos_lr_mae*100, dos_xgb_mae*100]\n",
        "namerandom = ['Log regression', 'XGBoost']\n",
        "# Graph for RandomForest Nonscaled vs NonScaled data:\n",
        "plt.bar(namerandom,randommeanlist)\n",
        "plt.title(\"DDOS\")\n",
        "plt.xlabel(\"Data\")\n",
        "plt.ylabel(\"Mean Average Error\")"
      ],
      "metadata": {
        "colab": {
          "base_uri": "https://localhost:8080/",
          "height": 0
        },
        "id": "rzLgqiQXHdzy",
        "outputId": "91e0309b-8b17-4630-e5f3-266a44cceebe"
      },
      "execution_count": 400,
      "outputs": [
        {
          "output_type": "execute_result",
          "data": {
            "text/plain": [
              "Text(0, 0.5, 'Mean Average Error')"
            ]
          },
          "metadata": {},
          "execution_count": 400
        },
        {
          "output_type": "display_data",
          "data": {
            "text/plain": [
              "<Figure size 432x288 with 1 Axes>"
            ],
            "image/png": "[encoded data removed]"
          },
          "metadata": {
            "needs_background": "light"
          }
        }
      ]
    },
    {
      "cell_type": "markdown",
      "source": [
        "# R2L"
      ],
      "metadata": {
        "id": "enAKxWQBBhRw"
      }
    },
    {
      "cell_type": "code",
      "source": [
        "df_train = pd.read_csv('/content/drive/MyDrive/FYP ML/DATA/train_improved.csv', sep=\",\")\n",
        "#df_train = df_train[df_train.columns[:-1]]\n",
        "df_test = pd.read_csv('/content/drive/MyDrive/FYP ML/DATA/test_imp.csv', index_col=0)\n",
        "#df_test = df_test[df_test.columns[:-1]]\n",
        "titles = pd.read_csv('/content/drive/MyDrive/FYP ML/DATA/Field Names.csv', header=None)\n",
        "#titles = titles[titles.columns[:-1]]\n",
        "attack = pd.read_csv('/content/drive/MyDrive/FYP ML/DATA/Attack Types.csv', sep=\",\",header=None)\n",
        "df_test_original = df_test\n",
        "df_train_original = df_train\n",
        "df_train = df_train.drop([\"protocol_type\", \"service\", \"flag\"],axis=1)\n",
        "df_test_original = df_test_original.drop([\"protocol_type\", \"service\", \"flag\"],axis=1)\n",
        "df_test = df_test.drop([\"protocol_type\", \"service\", \"flag\"],axis=1)\n",
        "df_train_original = df_train_original.drop([\"protocol_type\", \"service\", \"flag\"],axis=1)"
      ],
      "metadata": {
        "id": "_MN65Q7WLQTW"
      },
      "execution_count": 401,
      "outputs": []
    },
    {
      "cell_type": "code",
      "source": [
        "r2l_df_train = df_train_original\n",
        "r2l_df_test = df_test_original"
      ],
      "metadata": {
        "id": "ISgqWVeCH8-F"
      },
      "execution_count": 402,
      "outputs": []
    },
    {
      "cell_type": "code",
      "source": [
        "r2l_df_train[\"label\"].unique()"
      ],
      "metadata": {
        "colab": {
          "base_uri": "https://localhost:8080/"
        },
        "id": "kOiT_tPuBup-",
        "outputId": "2614e362-368b-4e1d-92a6-901f09f9c766"
      },
      "execution_count": 403,
      "outputs": [
        {
          "output_type": "execute_result",
          "data": {
            "text/plain": [
              "array(['normal', 'dos', 'r2l', 'probe', 'u2r', 'unknown'], dtype=object)"
            ]
          },
          "metadata": {},
          "execution_count": 403
        }
      ]
    },
    {
      "cell_type": "code",
      "source": [
        "for i in range(len(r2l_df_train)):\n",
        "  if r2l_df_train[\"label\"][i] == \"normal\":\n",
        "    r2l_df_train[\"label\"][i] = 1\n",
        "  elif r2l_df_train[\"label\"][i] == \"dos\":\n",
        "    r2l_df_train[\"label\"][i] = 1\n",
        "  elif r2l_df_train[\"label\"][i] == \"r2l\":\n",
        "    r2l_df_train[\"label\"][i] = 0\n",
        "  elif r2l_df_train[\"label\"][i] == \"probe\":\n",
        "    r2l_df_train[\"label\"][i] = 1\n",
        "  elif r2l_df_train[\"label\"][i] == \"u2r\":\n",
        "    r2l_df_train[\"label\"][i] = 1\n",
        "  else:\n",
        "    r2l_df_train[\"label\"][i] = 1"
      ],
      "metadata": {
        "colab": {
          "base_uri": "https://localhost:8080/"
        },
        "id": "WvSi0RUZBpT5",
        "outputId": "b55fa099-f740-401b-dd4f-27393e712755"
      },
      "execution_count": 404,
      "outputs": [
        {
          "output_type": "stream",
          "name": "stderr",
          "text": [
            "<ipython-input-404-5fbdf8dbd7eb>:3: SettingWithCopyWarning: \n",
            "A value is trying to be set on a copy of a slice from a DataFrame\n",
            "\n",
            "See the caveats in the documentation: https://pandas.pydata.org/pandas-docs/stable/user_guide/indexing.html#returning-a-view-versus-a-copy\n",
            "  r2l_df_train[\"label\"][i] = 1\n",
            "<ipython-input-404-5fbdf8dbd7eb>:5: SettingWithCopyWarning: \n",
            "A value is trying to be set on a copy of a slice from a DataFrame\n",
            "\n",
            "See the caveats in the documentation: https://pandas.pydata.org/pandas-docs/stable/user_guide/indexing.html#returning-a-view-versus-a-copy\n",
            "  r2l_df_train[\"label\"][i] = 1\n",
            "<ipython-input-404-5fbdf8dbd7eb>:7: SettingWithCopyWarning: \n",
            "A value is trying to be set on a copy of a slice from a DataFrame\n",
            "\n",
            "See the caveats in the documentation: https://pandas.pydata.org/pandas-docs/stable/user_guide/indexing.html#returning-a-view-versus-a-copy\n",
            "  r2l_df_train[\"label\"][i] = 0\n",
            "<ipython-input-404-5fbdf8dbd7eb>:9: SettingWithCopyWarning: \n",
            "A value is trying to be set on a copy of a slice from a DataFrame\n",
            "\n",
            "See the caveats in the documentation: https://pandas.pydata.org/pandas-docs/stable/user_guide/indexing.html#returning-a-view-versus-a-copy\n",
            "  r2l_df_train[\"label\"][i] = 1\n",
            "<ipython-input-404-5fbdf8dbd7eb>:11: SettingWithCopyWarning: \n",
            "A value is trying to be set on a copy of a slice from a DataFrame\n",
            "\n",
            "See the caveats in the documentation: https://pandas.pydata.org/pandas-docs/stable/user_guide/indexing.html#returning-a-view-versus-a-copy\n",
            "  r2l_df_train[\"label\"][i] = 1\n",
            "<ipython-input-404-5fbdf8dbd7eb>:13: SettingWithCopyWarning: \n",
            "A value is trying to be set on a copy of a slice from a DataFrame\n",
            "\n",
            "See the caveats in the documentation: https://pandas.pydata.org/pandas-docs/stable/user_guide/indexing.html#returning-a-view-versus-a-copy\n",
            "  r2l_df_train[\"label\"][i] = 1\n"
          ]
        }
      ]
    },
    {
      "cell_type": "code",
      "source": [
        "for i in range(len(r2l_df_test)):\n",
        "  if r2l_df_test[\"label\"][i] == \"normal\":\n",
        "    r2l_df_test[\"label\"][i] = 1\n",
        "  elif r2l_df_test[\"label\"][i] == \"dos\":\n",
        "    r2l_df_test[\"label\"][i] = 1\n",
        "  elif r2l_df_test[\"label\"][i] == \"r2l\":\n",
        "    r2l_df_test[\"label\"][i] = 0\n",
        "  elif r2l_df_test[\"label\"][i] == \"probe\":\n",
        "    r2l_df_test[\"label\"][i] = 1\n",
        "  elif r2l_df_test[\"label\"][i] == \"u2r\":\n",
        "    r2l_df_test[\"label\"][i] = 1\n",
        "  else:\n",
        "    r2l_df_test[\"label\"][i] = 1"
      ],
      "metadata": {
        "colab": {
          "base_uri": "https://localhost:8080/"
        },
        "id": "FCI9sewfB320",
        "outputId": "254ce122-8ce4-4f4b-91fd-bfba5e9d2763"
      },
      "execution_count": 405,
      "outputs": [
        {
          "output_type": "stream",
          "name": "stderr",
          "text": [
            "<ipython-input-405-7242244e1f8f>:5: SettingWithCopyWarning: \n",
            "A value is trying to be set on a copy of a slice from a DataFrame\n",
            "\n",
            "See the caveats in the documentation: https://pandas.pydata.org/pandas-docs/stable/user_guide/indexing.html#returning-a-view-versus-a-copy\n",
            "  r2l_df_test[\"label\"][i] = 1\n",
            "<ipython-input-405-7242244e1f8f>:3: SettingWithCopyWarning: \n",
            "A value is trying to be set on a copy of a slice from a DataFrame\n",
            "\n",
            "See the caveats in the documentation: https://pandas.pydata.org/pandas-docs/stable/user_guide/indexing.html#returning-a-view-versus-a-copy\n",
            "  r2l_df_test[\"label\"][i] = 1\n",
            "<ipython-input-405-7242244e1f8f>:13: SettingWithCopyWarning: \n",
            "A value is trying to be set on a copy of a slice from a DataFrame\n",
            "\n",
            "See the caveats in the documentation: https://pandas.pydata.org/pandas-docs/stable/user_guide/indexing.html#returning-a-view-versus-a-copy\n",
            "  r2l_df_test[\"label\"][i] = 1\n",
            "<ipython-input-405-7242244e1f8f>:7: SettingWithCopyWarning: \n",
            "A value is trying to be set on a copy of a slice from a DataFrame\n",
            "\n",
            "See the caveats in the documentation: https://pandas.pydata.org/pandas-docs/stable/user_guide/indexing.html#returning-a-view-versus-a-copy\n",
            "  r2l_df_test[\"label\"][i] = 0\n",
            "<ipython-input-405-7242244e1f8f>:9: SettingWithCopyWarning: \n",
            "A value is trying to be set on a copy of a slice from a DataFrame\n",
            "\n",
            "See the caveats in the documentation: https://pandas.pydata.org/pandas-docs/stable/user_guide/indexing.html#returning-a-view-versus-a-copy\n",
            "  r2l_df_test[\"label\"][i] = 1\n",
            "<ipython-input-405-7242244e1f8f>:11: SettingWithCopyWarning: \n",
            "A value is trying to be set on a copy of a slice from a DataFrame\n",
            "\n",
            "See the caveats in the documentation: https://pandas.pydata.org/pandas-docs/stable/user_guide/indexing.html#returning-a-view-versus-a-copy\n",
            "  r2l_df_test[\"label\"][i] = 1\n"
          ]
        }
      ]
    },
    {
      "cell_type": "code",
      "source": [
        "r2l_df_train[\"label\"].unique()"
      ],
      "metadata": {
        "colab": {
          "base_uri": "https://localhost:8080/"
        },
        "id": "j0H5fW3BCpSa",
        "outputId": "bac848c9-566a-40a8-a266-48d4f6ec0eca"
      },
      "execution_count": 406,
      "outputs": [
        {
          "output_type": "execute_result",
          "data": {
            "text/plain": [
              "array([1, 0], dtype=object)"
            ]
          },
          "metadata": {},
          "execution_count": 406
        }
      ]
    },
    {
      "cell_type": "code",
      "source": [
        "r2l_x_train = r2l_df_train[r2l_df_train.columns[:-1]].values\n",
        "r2l_y_train = r2l_df_train[r2l_df_train.columns[-1]].values.astype('int')\n",
        "r2l_x_test = r2l_df_test[r2l_df_test.columns[:-1]].values\n",
        "r2l_y_test = r2l_df_test[r2l_df_test.columns[-1]].values.astype('int')"
      ],
      "metadata": {
        "id": "jsbPg1r9CCeV"
      },
      "execution_count": 407,
      "outputs": []
    },
    {
      "cell_type": "code",
      "source": [
        "scaler = StandardScaler()\n",
        "r2l_x_train = scaler.fit_transform(r2l_x_train)\n",
        "r2l_x_test = scaler.transform(r2l_x_test)"
      ],
      "metadata": {
        "id": "wjJvmKppCRSZ"
      },
      "execution_count": 408,
      "outputs": []
    },
    {
      "cell_type": "markdown",
      "source": [
        "## Log Regression"
      ],
      "metadata": {
        "id": "yt288c3FChPz"
      }
    },
    {
      "cell_type": "code",
      "source": [
        "lg_model = LogisticRegression()\n",
        "lg_model = lg_model.fit(r2l_x_train, r2l_y_train)"
      ],
      "metadata": {
        "colab": {
          "base_uri": "https://localhost:8080/"
        },
        "id": "AJ8RbbtJCTN6",
        "outputId": "378ecb00-f9a0-4379-d579-e5c42359bef7"
      },
      "execution_count": 409,
      "outputs": [
        {
          "output_type": "stream",
          "name": "stderr",
          "text": [
            "/usr/local/lib/python3.9/dist-packages/sklearn/linear_model/_logistic.py:458: ConvergenceWarning: lbfgs failed to converge (status=1):\n",
            "STOP: TOTAL NO. of ITERATIONS REACHED LIMIT.\n",
            "\n",
            "Increase the number of iterations (max_iter) or scale the data as shown in:\n",
            "    https://scikit-learn.org/stable/modules/preprocessing.html\n",
            "Please also refer to the documentation for alternative solver options:\n",
            "    https://scikit-learn.org/stable/modules/linear_model.html#logistic-regression\n",
            "  n_iter_i = _check_optimize_result(\n"
          ]
        }
      ]
    },
    {
      "cell_type": "code",
      "source": [
        "r2l_lr_y_pred = lg_model.predict(r2l_x_test)"
      ],
      "metadata": {
        "id": "QSAWZqxuCVs5"
      },
      "execution_count": 410,
      "outputs": []
    },
    {
      "cell_type": "code",
      "source": [
        "print(classification_report(r2l_y_test, r2l_lr_y_pred))\n",
        "r2l_lr_mae = mean_absolute_error(r2l_y_test, r2l_lr_y_pred)\n",
        "print(\"Error: \" + str(r2l_lr_mae))\n",
        "r2l_lr_acc = accuracy_score(r2l_y_test, r2l_lr_y_pred)\n",
        "print(\"Accuracy: \" + str(r2l_lr_acc))"
      ],
      "metadata": {
        "colab": {
          "base_uri": "https://localhost:8080/"
        },
        "id": "j7HoYizlCbtD",
        "outputId": "6d80711a-3cf9-4e34-8e9a-ae56f790d289"
      },
      "execution_count": 411,
      "outputs": [
        {
          "output_type": "stream",
          "name": "stdout",
          "text": [
            "              precision    recall  f1-score   support\n",
            "\n",
            "           0       0.33      0.00      0.00      2199\n",
            "           1       0.90      1.00      0.95     20344\n",
            "\n",
            "    accuracy                           0.90     22543\n",
            "   macro avg       0.62      0.50      0.48     22543\n",
            "weighted avg       0.85      0.90      0.86     22543\n",
            "\n",
            "Error: 0.09776870869005899\n",
            "Accuracy: 0.902231291309941\n"
          ]
        }
      ]
    },
    {
      "cell_type": "code",
      "source": [
        "plt.subplot(121)\n",
        "plt.scatter(num,r2l_y_test,label=\"Actual\", s=10, color = 'red', alpha=1)\n",
        "plt.subplot(122)\n",
        "plt.scatter(num,r2l_lr_y_pred,label=\"Predicted\", s=10, color = 'blue', alpha=1)\n",
        "plt.suptitle(\"Log Regression\")"
      ],
      "metadata": {
        "colab": {
          "base_uri": "https://localhost:8080/",
          "height": 311
        },
        "id": "7DYu_oKqCdmD",
        "outputId": "07a0d745-1391-499a-e179-cdbf38ddcff2"
      },
      "execution_count": 412,
      "outputs": [
        {
          "output_type": "execute_result",
          "data": {
            "text/plain": [
              "Text(0.5, 0.98, 'Log Regression')"
            ]
          },
          "metadata": {},
          "execution_count": 412
        },
        {
          "output_type": "display_data",
          "data": {
            "text/plain": [
              "<Figure size 432x288 with 2 Axes>"
            ],
            "image/png": "[encoded data removed]"
          },
          "metadata": {
            "needs_background": "light"
          }
        }
      ]
    },
    {
      "cell_type": "markdown",
      "source": [
        "## XGBoost"
      ],
      "metadata": {
        "id": "likihmT3Cfq2"
      }
    },
    {
      "cell_type": "code",
      "source": [
        "xgb_model = xgb.XGBClassifier()\n",
        "xgb_model.fit(r2l_x_train, r2l_y_train)"
      ],
      "metadata": {
        "colab": {
          "base_uri": "https://localhost:8080/",
          "height": 248
        },
        "id": "oYjm80usCeny",
        "outputId": "0a6501cb-76be-48a3-b3b0-9470b685e579"
      },
      "execution_count": 413,
      "outputs": [
        {
          "output_type": "execute_result",
          "data": {
            "text/plain": [
              "XGBClassifier(base_score=None, booster=None, callbacks=None,\n",
              "              colsample_bylevel=None, colsample_bynode=None,\n",
              "              colsample_bytree=None, early_stopping_rounds=None,\n",
              "              enable_categorical=False, eval_metric=None, feature_types=None,\n",
              "              gamma=None, gpu_id=None, grow_policy=None, importance_type=None,\n",
              "              interaction_constraints=None, learning_rate=None, max_bin=None,\n",
              "              max_cat_threshold=None, max_cat_to_onehot=None,\n",
              "              max_delta_step=None, max_depth=None, max_leaves=None,\n",
              "              min_child_weight=None, missing=nan, monotone_constraints=None,\n",
              "              n_estimators=100, n_jobs=None, num_parallel_tree=None,\n",
              "              predictor=None, random_state=None, ...)"
            ],
            "text/html": [
              "<style>#sk-container-id-12 {color: black;background-color: white;}#sk-container-id-12 pre{padding: 0;}#sk-container-id-12 div.sk-toggleable {background-color: white;}#sk-container-id-12 label.sk-toggleable__label {cursor: pointer;display: block;width: 100%;margin-bottom: 0;padding: 0.3em;box-sizing: border-box;text-align: center;}#sk-container-id-12 label.sk-toggleable__label-arrow:before {content: \"▸\";float: left;margin-right: 0.25em;color: #696969;}#sk-container-id-12 label.sk-toggleable__label-arrow:hover:before {color: black;}#sk-container-id-12 div.sk-estimator:hover label.sk-toggleable__label-arrow:before {color: black;}#sk-container-id-12 div.sk-toggleable__content {max-height: 0;max-width: 0;overflow: hidden;text-align: left;background-color: #f0f8ff;}#sk-container-id-12 div.sk-toggleable__content pre {margin: 0.2em;color: black;border-radius: 0.25em;background-color: #f0f8ff;}#sk-container-id-12 input.sk-toggleable__control:checked~div.sk-toggleable__content {max-height: 200px;max-width: 100%;overflow: auto;}#sk-container-id-12 input.sk-toggleable__control:checked~label.sk-toggleable__label-arrow:before {content: \"▾\";}#sk-container-id-12 div.sk-estimator input.sk-toggleable__control:checked~label.sk-toggleable__label {background-color: #d4ebff;}#sk-container-id-12 div.sk-label input.sk-toggleable__control:checked~label.sk-toggleable__label {background-color: #d4ebff;}#sk-container-id-12 input.sk-hidden--visually {border: 0;clip: rect(1px 1px 1px 1px);clip: rect(1px, 1px, 1px, 1px);height: 1px;margin: -1px;overflow: hidden;padding: 0;position: absolute;width: 1px;}#sk-container-id-12 div.sk-estimator {font-family: monospace;background-color: #f0f8ff;border: 1px dotted black;border-radius: 0.25em;box-sizing: border-box;margin-bottom: 0.5em;}#sk-container-id-12 div.sk-estimator:hover {background-color: #d4ebff;}#sk-container-id-12 div.sk-parallel-item::after {content: \"\";width: 100%;border-bottom: 1px solid gray;flex-grow: 1;}#sk-container-id-12 div.sk-label:hover label.sk-toggleable__label {background-color: #d4ebff;}#sk-container-id-12 div.sk-serial::before {content: \"\";position: absolute;border-left: 1px solid gray;box-sizing: border-box;top: 0;bottom: 0;left: 50%;z-index: 0;}#sk-container-id-12 div.sk-serial {display: flex;flex-direction: column;align-items: center;background-color: white;padding-right: 0.2em;padding-left: 0.2em;position: relative;}#sk-container-id-12 div.sk-item {position: relative;z-index: 1;}#sk-container-id-12 div.sk-parallel {display: flex;align-items: stretch;justify-content: center;background-color: white;position: relative;}#sk-container-id-12 div.sk-item::before, #sk-container-id-12 div.sk-parallel-item::before {content: \"\";position: absolute;border-left: 1px solid gray;box-sizing: border-box;top: 0;bottom: 0;left: 50%;z-index: -1;}#sk-container-id-12 div.sk-parallel-item {display: flex;flex-direction: column;z-index: 1;position: relative;background-color: white;}#sk-container-id-12 div.sk-parallel-item:first-child::after {align-self: flex-end;width: 50%;}#sk-container-id-12 div.sk-parallel-item:last-child::after {align-self: flex-start;width: 50%;}#sk-container-id-12 div.sk-parallel-item:only-child::after {width: 0;}#sk-container-id-12 div.sk-dashed-wrapped {border: 1px dashed gray;margin: 0 0.4em 0.5em 0.4em;box-sizing: border-box;padding-bottom: 0.4em;background-color: white;}#sk-container-id-12 div.sk-label label {font-family: monospace;font-weight: bold;display: inline-block;line-height: 1.2em;}#sk-container-id-12 div.sk-label-container {text-align: center;}#sk-container-id-12 div.sk-container {/* jupyter's `normalize.less` sets `[hidden] { display: none; }` but bootstrap.min.css set `[hidden] { display: none !important; }` so we also need the `!important` here to be able to override the default hidden behavior on the sphinx rendered scikit-learn.org. See: https://github.com/scikit-learn/scikit-learn/issues/21755 */display: inline-block !important;position: relative;}#sk-container-id-12 div.sk-text-repr-fallback {display: none;}</style><div id=\"sk-container-id-12\" class=\"sk-top-container\"><div class=\"sk-text-repr-fallback\"><pre>XGBClassifier(base_score=None, booster=None, callbacks=None,\n",
              "              colsample_bylevel=None, colsample_bynode=None,\n",
              "              colsample_bytree=None, early_stopping_rounds=None,\n",
              "              enable_categorical=False, eval_metric=None, feature_types=None,\n",
              "              gamma=None, gpu_id=None, grow_policy=None, importance_type=None,\n",
              "              interaction_constraints=None, learning_rate=None, max_bin=None,\n",
              "              max_cat_threshold=None, max_cat_to_onehot=None,\n",
              "              max_delta_step=None, max_depth=None, max_leaves=None,\n",
              "              min_child_weight=None, missing=nan, monotone_constraints=None,\n",
              "              n_estimators=100, n_jobs=None, num_parallel_tree=None,\n",
              "              predictor=None, random_state=None, ...)</pre><b>In a Jupyter environment, please rerun this cell to show the HTML representation or trust the notebook. <br />On GitHub, the HTML representation is unable to render, please try loading this page with nbviewer.org.</b></div><div class=\"sk-container\" hidden><div class=\"sk-item\"><div class=\"sk-estimator sk-toggleable\"><input class=\"sk-toggleable__control sk-hidden--visually\" id=\"sk-estimator-id-12\" type=\"checkbox\" checked><label for=\"sk-estimator-id-12\" class=\"sk-toggleable__label sk-toggleable__label-arrow\">XGBClassifier</label><div class=\"sk-toggleable__content\"><pre>XGBClassifier(base_score=None, booster=None, callbacks=None,\n",
              "              colsample_bylevel=None, colsample_bynode=None,\n",
              "              colsample_bytree=None, early_stopping_rounds=None,\n",
              "              enable_categorical=False, eval_metric=None, feature_types=None,\n",
              "              gamma=None, gpu_id=None, grow_policy=None, importance_type=None,\n",
              "              interaction_constraints=None, learning_rate=None, max_bin=None,\n",
              "              max_cat_threshold=None, max_cat_to_onehot=None,\n",
              "              max_delta_step=None, max_depth=None, max_leaves=None,\n",
              "              min_child_weight=None, missing=nan, monotone_constraints=None,\n",
              "              n_estimators=100, n_jobs=None, num_parallel_tree=None,\n",
              "              predictor=None, random_state=None, ...)</pre></div></div></div></div></div>"
            ]
          },
          "metadata": {},
          "execution_count": 413
        }
      ]
    },
    {
      "cell_type": "code",
      "source": [
        "r2l_xgb_y_pred = xgb_model.predict(r2l_x_test)"
      ],
      "metadata": {
        "id": "2CDNhkUcDDzA"
      },
      "execution_count": 414,
      "outputs": []
    },
    {
      "cell_type": "code",
      "source": [
        "print(classification_report(r2l_y_test, r2l_xgb_y_pred))\n",
        "r2l_xgb_mae = mean_absolute_error(r2l_y_test, r2l_xgb_y_pred)\n",
        "print(\"Error: \" + str(r2l_xgb_mae))\n",
        "r2l_xgb_acc = accuracy_score(r2l_y_test, r2l_xgb_y_pred)\n",
        "print(\"Accuracy: \" + str(r2l_xgb_acc))"
      ],
      "metadata": {
        "colab": {
          "base_uri": "https://localhost:8080/"
        },
        "id": "okjBj568DFX7",
        "outputId": "06283b1b-6c02-4544-8536-4233d8f0d0a0"
      },
      "execution_count": 415,
      "outputs": [
        {
          "output_type": "stream",
          "name": "stdout",
          "text": [
            "              precision    recall  f1-score   support\n",
            "\n",
            "           0       1.00      0.06      0.11      2199\n",
            "           1       0.91      1.00      0.95     20344\n",
            "\n",
            "    accuracy                           0.91     22543\n",
            "   macro avg       0.95      0.53      0.53     22543\n",
            "weighted avg       0.92      0.91      0.87     22543\n",
            "\n",
            "Error: 0.09209067116177971\n",
            "Accuracy: 0.9079093288382203\n"
          ]
        }
      ]
    },
    {
      "cell_type": "code",
      "source": [
        "plt.subplot(121)\n",
        "plt.scatter(num,r2l_y_test,label=\"Actual\", s=10, color = 'red', alpha=1)\n",
        "plt.subplot(122)\n",
        "plt.scatter(num,r2l_xgb_y_pred,label=\"Predicted\", s=10, color = 'blue', alpha=1)\n",
        "plt.suptitle(\"XGBoost\")"
      ],
      "metadata": {
        "colab": {
          "base_uri": "https://localhost:8080/",
          "height": 311
        },
        "id": "3iWMadghDJ7R",
        "outputId": "08e1154a-c369-4f7d-d842-52bcd912062c"
      },
      "execution_count": 416,
      "outputs": [
        {
          "output_type": "execute_result",
          "data": {
            "text/plain": [
              "Text(0.5, 0.98, 'XGBoost')"
            ]
          },
          "metadata": {},
          "execution_count": 416
        },
        {
          "output_type": "display_data",
          "data": {
            "text/plain": [
              "<Figure size 432x288 with 2 Axes>"
            ],
            "image/png": "[encoded data removed]"
          },
          "metadata": {
            "needs_background": "light"
          }
        }
      ]
    },
    {
      "cell_type": "code",
      "source": [
        "randommeanlist = [r2l_lr_acc*100, r2l_xgb_acc*100]\n",
        "namerandom = ['Log regression', 'XGBoost']\n",
        "# Graph for RandomForest Nonscaled vs NonScaled data:\n",
        "plt.bar(namerandom,randommeanlist)\n",
        "plt.title(\"R2L\")\n",
        "plt.xlabel(\"Data\")\n",
        "plt.ylabel(\"Accuracy\")"
      ],
      "metadata": {
        "colab": {
          "base_uri": "https://localhost:8080/",
          "height": 312
        },
        "id": "t7VU5BlhDK1h",
        "outputId": "405b7ad6-bdc5-496e-e254-6a87fd166ca0"
      },
      "execution_count": 417,
      "outputs": [
        {
          "output_type": "execute_result",
          "data": {
            "text/plain": [
              "Text(0, 0.5, 'Accuracy')"
            ]
          },
          "metadata": {},
          "execution_count": 417
        },
        {
          "output_type": "display_data",
          "data": {
            "text/plain": [
              "<Figure size 432x288 with 1 Axes>"
            ],
            "image/png": "[encoded data removed]"
          },
          "metadata": {
            "needs_background": "light"
          }
        }
      ]
    },
    {
      "cell_type": "code",
      "source": [
        "randommeanlist = [r2l_lr_mae*100, r2l_xgb_mae*100]\n",
        "namerandom = ['Log regression', 'XGBoost']\n",
        "# Graph for RandomForest Nonscaled vs NonScaled data:\n",
        "plt.bar(namerandom,randommeanlist)\n",
        "plt.title(\"R2L\")\n",
        "plt.xlabel(\"Data\")\n",
        "plt.ylabel(\"Mean Average Error\")"
      ],
      "metadata": {
        "colab": {
          "base_uri": "https://localhost:8080/",
          "height": 312
        },
        "id": "lQjKrYCiEWtd",
        "outputId": "b3b1a2b2-82fd-4a8e-f9dc-5a333aa5d887"
      },
      "execution_count": 418,
      "outputs": [
        {
          "output_type": "execute_result",
          "data": {
            "text/plain": [
              "Text(0, 0.5, 'Mean Average Error')"
            ]
          },
          "metadata": {},
          "execution_count": 418
        },
        {
          "output_type": "display_data",
          "data": {
            "text/plain": [
              "<Figure size 432x288 with 1 Axes>"
            ],
            "image/png": "[encoded data removed]"
          },
          "metadata": {
            "needs_background": "light"
          }
        }
      ]
    },
    {
      "cell_type": "markdown",
      "source": [
        "# Probe"
      ],
      "metadata": {
        "id": "LC17WSswDydB"
      }
    },
    {
      "cell_type": "code",
      "source": [
        "df_train = pd.read_csv('/content/drive/MyDrive/FYP ML/DATA/train_improved.csv', sep=\",\")\n",
        "#df_train = df_train[df_train.columns[:-1]]\n",
        "df_test = pd.read_csv('/content/drive/MyDrive/FYP ML/DATA/test_imp.csv', index_col=0)\n",
        "#df_test = df_test[df_test.columns[:-1]]\n",
        "titles = pd.read_csv('/content/drive/MyDrive/FYP ML/DATA/Field Names.csv', header=None)\n",
        "#titles = titles[titles.columns[:-1]]\n",
        "attack = pd.read_csv('/content/drive/MyDrive/FYP ML/DATA/Attack Types.csv', sep=\",\",header=None)\n",
        "df_test_original = df_test\n",
        "df_train_original = df_train\n",
        "df_train = df_train.drop([\"protocol_type\", \"service\", \"flag\"],axis=1)\n",
        "df_test_original = df_test_original.drop([\"protocol_type\", \"service\", \"flag\"],axis=1)\n",
        "df_test = df_test.drop([\"protocol_type\", \"service\", \"flag\"],axis=1)\n",
        "df_train_original = df_train_original.drop([\"protocol_type\", \"service\", \"flag\"],axis=1)"
      ],
      "metadata": {
        "id": "_Vb5ym9BLbz9"
      },
      "execution_count": 419,
      "outputs": []
    },
    {
      "cell_type": "code",
      "source": [
        "probe_df_train = df_train_original\n",
        "probe_df_test = df_test_original"
      ],
      "metadata": {
        "id": "LTG_HRG9Ef4S"
      },
      "execution_count": 420,
      "outputs": []
    },
    {
      "cell_type": "code",
      "source": [
        "probe_df_train[\"label\"].unique()"
      ],
      "metadata": {
        "colab": {
          "base_uri": "https://localhost:8080/"
        },
        "id": "3PvRNjTOE6Go",
        "outputId": "67fa7883-dbc3-453e-98fa-987f6521f865"
      },
      "execution_count": 421,
      "outputs": [
        {
          "output_type": "execute_result",
          "data": {
            "text/plain": [
              "array(['normal', 'dos', 'r2l', 'probe', 'u2r', 'unknown'], dtype=object)"
            ]
          },
          "metadata": {},
          "execution_count": 421
        }
      ]
    },
    {
      "cell_type": "code",
      "source": [
        "for i in range(len(probe_df_train)):\n",
        "  if probe_df_train[\"label\"][i] == \"normal\":\n",
        "    probe_df_train[\"label\"][i] = 1\n",
        "  elif probe_df_train[\"label\"][i] == \"dos\":\n",
        "    probe_df_train[\"label\"][i] = 1\n",
        "  elif probe_df_train[\"label\"][i] == \"r2l\":\n",
        "    probe_df_train[\"label\"][i] = 1\n",
        "  elif probe_df_train[\"label\"][i] == \"probe\":\n",
        "    probe_df_train[\"label\"][i] = 0\n",
        "  elif probe_df_train[\"label\"][i] == \"u2r\":\n",
        "    probe_df_train[\"label\"][i] = 1\n",
        "  else:\n",
        "    probe_df_train[\"label\"][i] = 1"
      ],
      "metadata": {
        "colab": {
          "base_uri": "https://localhost:8080/"
        },
        "id": "mb8FsYnqD1GJ",
        "outputId": "01cc5776-62e4-4e9b-da45-da886a0b86a0"
      },
      "execution_count": 422,
      "outputs": [
        {
          "output_type": "stream",
          "name": "stderr",
          "text": [
            "<ipython-input-422-21f392180185>:3: SettingWithCopyWarning: \n",
            "A value is trying to be set on a copy of a slice from a DataFrame\n",
            "\n",
            "See the caveats in the documentation: https://pandas.pydata.org/pandas-docs/stable/user_guide/indexing.html#returning-a-view-versus-a-copy\n",
            "  probe_df_train[\"label\"][i] = 1\n",
            "<ipython-input-422-21f392180185>:5: SettingWithCopyWarning: \n",
            "A value is trying to be set on a copy of a slice from a DataFrame\n",
            "\n",
            "See the caveats in the documentation: https://pandas.pydata.org/pandas-docs/stable/user_guide/indexing.html#returning-a-view-versus-a-copy\n",
            "  probe_df_train[\"label\"][i] = 1\n",
            "<ipython-input-422-21f392180185>:7: SettingWithCopyWarning: \n",
            "A value is trying to be set on a copy of a slice from a DataFrame\n",
            "\n",
            "See the caveats in the documentation: https://pandas.pydata.org/pandas-docs/stable/user_guide/indexing.html#returning-a-view-versus-a-copy\n",
            "  probe_df_train[\"label\"][i] = 1\n",
            "<ipython-input-422-21f392180185>:9: SettingWithCopyWarning: \n",
            "A value is trying to be set on a copy of a slice from a DataFrame\n",
            "\n",
            "See the caveats in the documentation: https://pandas.pydata.org/pandas-docs/stable/user_guide/indexing.html#returning-a-view-versus-a-copy\n",
            "  probe_df_train[\"label\"][i] = 0\n",
            "<ipython-input-422-21f392180185>:11: SettingWithCopyWarning: \n",
            "A value is trying to be set on a copy of a slice from a DataFrame\n",
            "\n",
            "See the caveats in the documentation: https://pandas.pydata.org/pandas-docs/stable/user_guide/indexing.html#returning-a-view-versus-a-copy\n",
            "  probe_df_train[\"label\"][i] = 1\n",
            "<ipython-input-422-21f392180185>:13: SettingWithCopyWarning: \n",
            "A value is trying to be set on a copy of a slice from a DataFrame\n",
            "\n",
            "See the caveats in the documentation: https://pandas.pydata.org/pandas-docs/stable/user_guide/indexing.html#returning-a-view-versus-a-copy\n",
            "  probe_df_train[\"label\"][i] = 1\n"
          ]
        }
      ]
    },
    {
      "cell_type": "code",
      "source": [
        "for i in range(len(probe_df_test)):\n",
        "  if probe_df_test[\"label\"][i] == \"normal\":\n",
        "    probe_df_test[\"label\"][i] = 1\n",
        "  elif probe_df_test[\"label\"][i] == \"dos\":\n",
        "    probe_df_test[\"label\"][i] = 1\n",
        "  elif probe_df_test[\"label\"][i] == \"r2l\":\n",
        "    probe_df_test[\"label\"][i] = 1\n",
        "  elif probe_df_test[\"label\"][i] == \"probe\":\n",
        "    probe_df_test[\"label\"][i] = 0\n",
        "  elif probe_df_test[\"label\"][i] == \"u2r\":\n",
        "    probe_df_test[\"label\"][i] = 1\n",
        "  else:\n",
        "    probe_df_test[\"label\"][i] = 1"
      ],
      "metadata": {
        "colab": {
          "base_uri": "https://localhost:8080/"
        },
        "id": "iTkdU24GD38o",
        "outputId": "6c82137b-5576-4037-97c1-09377d477e5f"
      },
      "execution_count": 423,
      "outputs": [
        {
          "output_type": "stream",
          "name": "stderr",
          "text": [
            "<ipython-input-423-37aefb2aefce>:5: SettingWithCopyWarning: \n",
            "A value is trying to be set on a copy of a slice from a DataFrame\n",
            "\n",
            "See the caveats in the documentation: https://pandas.pydata.org/pandas-docs/stable/user_guide/indexing.html#returning-a-view-versus-a-copy\n",
            "  probe_df_test[\"label\"][i] = 1\n",
            "<ipython-input-423-37aefb2aefce>:3: SettingWithCopyWarning: \n",
            "A value is trying to be set on a copy of a slice from a DataFrame\n",
            "\n",
            "See the caveats in the documentation: https://pandas.pydata.org/pandas-docs/stable/user_guide/indexing.html#returning-a-view-versus-a-copy\n",
            "  probe_df_test[\"label\"][i] = 1\n",
            "<ipython-input-423-37aefb2aefce>:13: SettingWithCopyWarning: \n",
            "A value is trying to be set on a copy of a slice from a DataFrame\n",
            "\n",
            "See the caveats in the documentation: https://pandas.pydata.org/pandas-docs/stable/user_guide/indexing.html#returning-a-view-versus-a-copy\n",
            "  probe_df_test[\"label\"][i] = 1\n",
            "<ipython-input-423-37aefb2aefce>:7: SettingWithCopyWarning: \n",
            "A value is trying to be set on a copy of a slice from a DataFrame\n",
            "\n",
            "See the caveats in the documentation: https://pandas.pydata.org/pandas-docs/stable/user_guide/indexing.html#returning-a-view-versus-a-copy\n",
            "  probe_df_test[\"label\"][i] = 1\n",
            "<ipython-input-423-37aefb2aefce>:9: SettingWithCopyWarning: \n",
            "A value is trying to be set on a copy of a slice from a DataFrame\n",
            "\n",
            "See the caveats in the documentation: https://pandas.pydata.org/pandas-docs/stable/user_guide/indexing.html#returning-a-view-versus-a-copy\n",
            "  probe_df_test[\"label\"][i] = 0\n",
            "<ipython-input-423-37aefb2aefce>:11: SettingWithCopyWarning: \n",
            "A value is trying to be set on a copy of a slice from a DataFrame\n",
            "\n",
            "See the caveats in the documentation: https://pandas.pydata.org/pandas-docs/stable/user_guide/indexing.html#returning-a-view-versus-a-copy\n",
            "  probe_df_test[\"label\"][i] = 1\n"
          ]
        }
      ]
    },
    {
      "cell_type": "code",
      "source": [
        "print(probe_df_train[\"label\"].unique())\n",
        "print(probe_df_test[\"label\"].unique())"
      ],
      "metadata": {
        "colab": {
          "base_uri": "https://localhost:8080/"
        },
        "id": "lQO0YhvUD5ID",
        "outputId": "05c9619a-12fd-49f1-fcf1-94c0f2a6e33e"
      },
      "execution_count": 424,
      "outputs": [
        {
          "output_type": "stream",
          "name": "stdout",
          "text": [
            "[1 0]\n",
            "[1 0]\n"
          ]
        }
      ]
    },
    {
      "cell_type": "code",
      "source": [
        "probe_x_train = probe_df_train[probe_df_train.columns[:-1]].values\n",
        "probe_y_train = probe_df_train[probe_df_train.columns[-1]].values.astype('int')\n",
        "probe_x_test = probe_df_test[probe_df_test.columns[:-1]].values\n",
        "probe_y_test = probe_df_test[probe_df_test.columns[-1]].values.astype('int')"
      ],
      "metadata": {
        "id": "txdbcTwJD6oJ"
      },
      "execution_count": 425,
      "outputs": []
    },
    {
      "cell_type": "code",
      "source": [
        "scaler = StandardScaler()\n",
        "probe_x_train = scaler.fit_transform(probe_x_train)\n",
        "probe_x_test = scaler.transform(probe_x_test)"
      ],
      "metadata": {
        "id": "g19fATgcD7eC"
      },
      "execution_count": 426,
      "outputs": []
    },
    {
      "cell_type": "markdown",
      "source": [
        "## Log Regression"
      ],
      "metadata": {
        "id": "vgbPUpNKD9oN"
      }
    },
    {
      "cell_type": "code",
      "source": [
        "lg_model = LogisticRegression()\n",
        "lg_model = lg_model.fit(probe_x_train, probe_y_train)"
      ],
      "metadata": {
        "colab": {
          "base_uri": "https://localhost:8080/"
        },
        "id": "HfSH_PpNECAX",
        "outputId": "7979613a-45a4-4e3a-f065-79ffe0b35f5f"
      },
      "execution_count": 427,
      "outputs": [
        {
          "output_type": "stream",
          "name": "stderr",
          "text": [
            "/usr/local/lib/python3.9/dist-packages/sklearn/linear_model/_logistic.py:458: ConvergenceWarning: lbfgs failed to converge (status=1):\n",
            "STOP: TOTAL NO. of ITERATIONS REACHED LIMIT.\n",
            "\n",
            "Increase the number of iterations (max_iter) or scale the data as shown in:\n",
            "    https://scikit-learn.org/stable/modules/preprocessing.html\n",
            "Please also refer to the documentation for alternative solver options:\n",
            "    https://scikit-learn.org/stable/modules/linear_model.html#logistic-regression\n",
            "  n_iter_i = _check_optimize_result(\n"
          ]
        }
      ]
    },
    {
      "cell_type": "code",
      "source": [
        "probe_lr_y_pred = lg_model.predict(probe_x_test)"
      ],
      "metadata": {
        "id": "A33gzkfcELwh"
      },
      "execution_count": 428,
      "outputs": []
    },
    {
      "cell_type": "code",
      "source": [
        "print(classification_report(probe_y_test, probe_lr_y_pred))\n",
        "probe_lr_mae = mean_absolute_error(probe_y_test, probe_lr_y_pred)\n",
        "print(\"Error: \" + str(probe_lr_mae))\n",
        "probe_lr_acc = accuracy_score(probe_y_test, probe_lr_y_pred)\n",
        "print(\"Accuracy: \" + str(probe_lr_acc))"
      ],
      "metadata": {
        "colab": {
          "base_uri": "https://localhost:8080/"
        },
        "id": "eZhiV2I6EXSR",
        "outputId": "27f00adc-041f-4fce-b23c-6bc02a7a17c0"
      },
      "execution_count": 429,
      "outputs": [
        {
          "output_type": "stream",
          "name": "stdout",
          "text": [
            "              precision    recall  f1-score   support\n",
            "\n",
            "           0       0.54      0.96      0.69      1106\n",
            "           1       1.00      0.96      0.98     21437\n",
            "\n",
            "    accuracy                           0.96     22543\n",
            "   macro avg       0.77      0.96      0.84     22543\n",
            "weighted avg       0.98      0.96      0.96     22543\n",
            "\n",
            "Error: 0.04134321075278357\n",
            "Accuracy: 0.9586567892472164\n"
          ]
        }
      ]
    },
    {
      "cell_type": "code",
      "source": [
        "plt.subplot(121)\n",
        "plt.scatter(num,probe_y_test,label=\"Actual\", s=10, color = 'red', alpha=1)\n",
        "plt.subplot(122)\n",
        "plt.scatter(num,probe_lr_y_pred,label=\"Predicted\", s=10, color = 'blue', alpha=1)\n",
        "plt.suptitle(\"Log Regression\")"
      ],
      "metadata": {
        "colab": {
          "base_uri": "https://localhost:8080/",
          "height": 311
        },
        "id": "0DLJV1xVEYIK",
        "outputId": "74e55935-09e6-423d-c257-a5884b7bccca"
      },
      "execution_count": 430,
      "outputs": [
        {
          "output_type": "execute_result",
          "data": {
            "text/plain": [
              "Text(0.5, 0.98, 'Log Regression')"
            ]
          },
          "metadata": {},
          "execution_count": 430
        },
        {
          "output_type": "display_data",
          "data": {
            "text/plain": [
              "<Figure size 432x288 with 2 Axes>"
            ],
            "image/png": "[encoded data removed]"
          },
          "metadata": {
            "needs_background": "light"
          }
        }
      ]
    },
    {
      "cell_type": "markdown",
      "source": [
        "## XGBoost"
      ],
      "metadata": {
        "id": "4pNBTx1eEmZJ"
      }
    },
    {
      "cell_type": "code",
      "source": [
        "xgb_model = xgb.XGBClassifier()\n",
        "xgb_model.fit(probe_x_train, probe_y_train)"
      ],
      "metadata": {
        "id": "0DNNj35OEYzZ",
        "colab": {
          "base_uri": "https://localhost:8080/",
          "height": 248
        },
        "outputId": "32e4df80-625d-451f-c2c1-7662d100fe25"
      },
      "execution_count": 431,
      "outputs": [
        {
          "output_type": "execute_result",
          "data": {
            "text/plain": [
              "XGBClassifier(base_score=None, booster=None, callbacks=None,\n",
              "              colsample_bylevel=None, colsample_bynode=None,\n",
              "              colsample_bytree=None, early_stopping_rounds=None,\n",
              "              enable_categorical=False, eval_metric=None, feature_types=None,\n",
              "              gamma=None, gpu_id=None, grow_policy=None, importance_type=None,\n",
              "              interaction_constraints=None, learning_rate=None, max_bin=None,\n",
              "              max_cat_threshold=None, max_cat_to_onehot=None,\n",
              "              max_delta_step=None, max_depth=None, max_leaves=None,\n",
              "              min_child_weight=None, missing=nan, monotone_constraints=None,\n",
              "              n_estimators=100, n_jobs=None, num_parallel_tree=None,\n",
              "              predictor=None, random_state=None, ...)"
            ],
            "text/html": [
              "<style>#sk-container-id-13 {color: black;background-color: white;}#sk-container-id-13 pre{padding: 0;}#sk-container-id-13 div.sk-toggleable {background-color: white;}#sk-container-id-13 label.sk-toggleable__label {cursor: pointer;display: block;width: 100%;margin-bottom: 0;padding: 0.3em;box-sizing: border-box;text-align: center;}#sk-container-id-13 label.sk-toggleable__label-arrow:before {content: \"▸\";float: left;margin-right: 0.25em;color: #696969;}#sk-container-id-13 label.sk-toggleable__label-arrow:hover:before {color: black;}#sk-container-id-13 div.sk-estimator:hover label.sk-toggleable__label-arrow:before {color: black;}#sk-container-id-13 div.sk-toggleable__content {max-height: 0;max-width: 0;overflow: hidden;text-align: left;background-color: #f0f8ff;}#sk-container-id-13 div.sk-toggleable__content pre {margin: 0.2em;color: black;border-radius: 0.25em;background-color: #f0f8ff;}#sk-container-id-13 input.sk-toggleable__control:checked~div.sk-toggleable__content {max-height: 200px;max-width: 100%;overflow: auto;}#sk-container-id-13 input.sk-toggleable__control:checked~label.sk-toggleable__label-arrow:before {content: \"▾\";}#sk-container-id-13 div.sk-estimator input.sk-toggleable__control:checked~label.sk-toggleable__label {background-color: #d4ebff;}#sk-container-id-13 div.sk-label input.sk-toggleable__control:checked~label.sk-toggleable__label {background-color: #d4ebff;}#sk-container-id-13 input.sk-hidden--visually {border: 0;clip: rect(1px 1px 1px 1px);clip: rect(1px, 1px, 1px, 1px);height: 1px;margin: -1px;overflow: hidden;padding: 0;position: absolute;width: 1px;}#sk-container-id-13 div.sk-estimator {font-family: monospace;background-color: #f0f8ff;border: 1px dotted black;border-radius: 0.25em;box-sizing: border-box;margin-bottom: 0.5em;}#sk-container-id-13 div.sk-estimator:hover {background-color: #d4ebff;}#sk-container-id-13 div.sk-parallel-item::after {content: \"\";width: 100%;border-bottom: 1px solid gray;flex-grow: 1;}#sk-container-id-13 div.sk-label:hover label.sk-toggleable__label {background-color: #d4ebff;}#sk-container-id-13 div.sk-serial::before {content: \"\";position: absolute;border-left: 1px solid gray;box-sizing: border-box;top: 0;bottom: 0;left: 50%;z-index: 0;}#sk-container-id-13 div.sk-serial {display: flex;flex-direction: column;align-items: center;background-color: white;padding-right: 0.2em;padding-left: 0.2em;position: relative;}#sk-container-id-13 div.sk-item {position: relative;z-index: 1;}#sk-container-id-13 div.sk-parallel {display: flex;align-items: stretch;justify-content: center;background-color: white;position: relative;}#sk-container-id-13 div.sk-item::before, #sk-container-id-13 div.sk-parallel-item::before {content: \"\";position: absolute;border-left: 1px solid gray;box-sizing: border-box;top: 0;bottom: 0;left: 50%;z-index: -1;}#sk-container-id-13 div.sk-parallel-item {display: flex;flex-direction: column;z-index: 1;position: relative;background-color: white;}#sk-container-id-13 div.sk-parallel-item:first-child::after {align-self: flex-end;width: 50%;}#sk-container-id-13 div.sk-parallel-item:last-child::after {align-self: flex-start;width: 50%;}#sk-container-id-13 div.sk-parallel-item:only-child::after {width: 0;}#sk-container-id-13 div.sk-dashed-wrapped {border: 1px dashed gray;margin: 0 0.4em 0.5em 0.4em;box-sizing: border-box;padding-bottom: 0.4em;background-color: white;}#sk-container-id-13 div.sk-label label {font-family: monospace;font-weight: bold;display: inline-block;line-height: 1.2em;}#sk-container-id-13 div.sk-label-container {text-align: center;}#sk-container-id-13 div.sk-container {/* jupyter's `normalize.less` sets `[hidden] { display: none; }` but bootstrap.min.css set `[hidden] { display: none !important; }` so we also need the `!important` here to be able to override the default hidden behavior on the sphinx rendered scikit-learn.org. See: https://github.com/scikit-learn/scikit-learn/issues/21755 */display: inline-block !important;position: relative;}#sk-container-id-13 div.sk-text-repr-fallback {display: none;}</style><div id=\"sk-container-id-13\" class=\"sk-top-container\"><div class=\"sk-text-repr-fallback\"><pre>XGBClassifier(base_score=None, booster=None, callbacks=None,\n",
              "              colsample_bylevel=None, colsample_bynode=None,\n",
              "              colsample_bytree=None, early_stopping_rounds=None,\n",
              "              enable_categorical=False, eval_metric=None, feature_types=None,\n",
              "              gamma=None, gpu_id=None, grow_policy=None, importance_type=None,\n",
              "              interaction_constraints=None, learning_rate=None, max_bin=None,\n",
              "              max_cat_threshold=None, max_cat_to_onehot=None,\n",
              "              max_delta_step=None, max_depth=None, max_leaves=None,\n",
              "              min_child_weight=None, missing=nan, monotone_constraints=None,\n",
              "              n_estimators=100, n_jobs=None, num_parallel_tree=None,\n",
              "              predictor=None, random_state=None, ...)</pre><b>In a Jupyter environment, please rerun this cell to show the HTML representation or trust the notebook. <br />On GitHub, the HTML representation is unable to render, please try loading this page with nbviewer.org.</b></div><div class=\"sk-container\" hidden><div class=\"sk-item\"><div class=\"sk-estimator sk-toggleable\"><input class=\"sk-toggleable__control sk-hidden--visually\" id=\"sk-estimator-id-13\" type=\"checkbox\" checked><label for=\"sk-estimator-id-13\" class=\"sk-toggleable__label sk-toggleable__label-arrow\">XGBClassifier</label><div class=\"sk-toggleable__content\"><pre>XGBClassifier(base_score=None, booster=None, callbacks=None,\n",
              "              colsample_bylevel=None, colsample_bynode=None,\n",
              "              colsample_bytree=None, early_stopping_rounds=None,\n",
              "              enable_categorical=False, eval_metric=None, feature_types=None,\n",
              "              gamma=None, gpu_id=None, grow_policy=None, importance_type=None,\n",
              "              interaction_constraints=None, learning_rate=None, max_bin=None,\n",
              "              max_cat_threshold=None, max_cat_to_onehot=None,\n",
              "              max_delta_step=None, max_depth=None, max_leaves=None,\n",
              "              min_child_weight=None, missing=nan, monotone_constraints=None,\n",
              "              n_estimators=100, n_jobs=None, num_parallel_tree=None,\n",
              "              predictor=None, random_state=None, ...)</pre></div></div></div></div></div>"
            ]
          },
          "metadata": {},
          "execution_count": 431
        }
      ]
    },
    {
      "cell_type": "code",
      "source": [
        "probe_xgb_y_pred = xgb_model.predict(probe_x_test)"
      ],
      "metadata": {
        "id": "xjqIgbCkGtec"
      },
      "execution_count": 432,
      "outputs": []
    },
    {
      "cell_type": "code",
      "source": [
        "print(classification_report(probe_y_test, probe_xgb_y_pred))\n",
        "probe_xgb_mae = mean_absolute_error(probe_y_test, probe_xgb_y_pred)\n",
        "print(\"Error: \" + str(probe_xgb_mae))\n",
        "probe_xgb_acc = accuracy_score(probe_y_test, probe_xgb_y_pred)\n",
        "print(\"Accuracy: \" + str(probe_xgb_acc))"
      ],
      "metadata": {
        "colab": {
          "base_uri": "https://localhost:8080/"
        },
        "id": "yEPs23gPGukr",
        "outputId": "3e76bb00-17e7-4041-c1ed-4bb5499fa480"
      },
      "execution_count": 433,
      "outputs": [
        {
          "output_type": "stream",
          "name": "stdout",
          "text": [
            "              precision    recall  f1-score   support\n",
            "\n",
            "           0       0.75      0.96      0.84      1106\n",
            "           1       1.00      0.98      0.99     21437\n",
            "\n",
            "    accuracy                           0.98     22543\n",
            "   macro avg       0.87      0.97      0.92     22543\n",
            "weighted avg       0.99      0.98      0.98     22543\n",
            "\n",
            "Error: 0.017788226944062457\n",
            "Accuracy: 0.9822117730559375\n"
          ]
        }
      ]
    },
    {
      "cell_type": "code",
      "source": [
        "plt.subplot(121)\n",
        "plt.scatter(num,probe_y_test,label=\"Actual\", s=10, color = 'red', alpha=1)\n",
        "plt.subplot(122)\n",
        "plt.scatter(num,probe_xgb_y_pred,label=\"Predicted\", s=10, color = 'blue', alpha=1)\n",
        "plt.suptitle(\"XGBoost\")"
      ],
      "metadata": {
        "colab": {
          "base_uri": "https://localhost:8080/",
          "height": 311
        },
        "id": "DVwnZyMfGx87",
        "outputId": "5cdf2fb3-6b28-4431-ff76-5a9397d4ede4"
      },
      "execution_count": 434,
      "outputs": [
        {
          "output_type": "execute_result",
          "data": {
            "text/plain": [
              "Text(0.5, 0.98, 'XGBoost')"
            ]
          },
          "metadata": {},
          "execution_count": 434
        },
        {
          "output_type": "display_data",
          "data": {
            "text/plain": [
              "<Figure size 432x288 with 2 Axes>"
            ],
            "image/png": "[encoded data removed]"
          },
          "metadata": {
            "needs_background": "light"
          }
        }
      ]
    },
    {
      "cell_type": "code",
      "source": [
        "randommeanlist = [probe_lr_acc*100, probe_xgb_acc*100]\n",
        "namerandom = ['Log regression', 'XGBoost']\n",
        "# Graph for RandomForest Nonscaled vs NonScaled data:\n",
        "plt.bar(namerandom,randommeanlist)\n",
        "plt.title(\"PROBE\")\n",
        "plt.xlabel(\"Data\")\n",
        "plt.ylabel(\"Accuracy\")"
      ],
      "metadata": {
        "colab": {
          "base_uri": "https://localhost:8080/",
          "height": 312
        },
        "id": "WZ0R4Vr2GzVW",
        "outputId": "654fc2e1-56fe-400c-8131-0df71e2d6e89"
      },
      "execution_count": 435,
      "outputs": [
        {
          "output_type": "execute_result",
          "data": {
            "text/plain": [
              "Text(0, 0.5, 'Accuracy')"
            ]
          },
          "metadata": {},
          "execution_count": 435
        },
        {
          "output_type": "display_data",
          "data": {
            "text/plain": [
              "<Figure size 432x288 with 1 Axes>"
            ],
            "image/png": "[encoded data removed]"
          },
          "metadata": {
            "needs_background": "light"
          }
        }
      ]
    },
    {
      "cell_type": "code",
      "source": [
        "randommeanlist = [probe_lr_mae*100, probe_xgb_mae*100]\n",
        "namerandom = ['Log regression', 'XGBoost']\n",
        "# Graph for RandomForest Nonscaled vs NonScaled data:\n",
        "plt.bar(namerandom,randommeanlist)\n",
        "plt.title(\"PROBE\")\n",
        "plt.xlabel(\"Data\")\n",
        "plt.ylabel(\"Mean Average Error\")"
      ],
      "metadata": {
        "colab": {
          "base_uri": "https://localhost:8080/",
          "height": 312
        },
        "id": "Qly9f9snG0qs",
        "outputId": "1ffd7f23-6df8-4a09-a83a-07c42af59f37"
      },
      "execution_count": 436,
      "outputs": [
        {
          "output_type": "execute_result",
          "data": {
            "text/plain": [
              "Text(0, 0.5, 'Mean Average Error')"
            ]
          },
          "metadata": {},
          "execution_count": 436
        },
        {
          "output_type": "display_data",
          "data": {
            "text/plain": [
              "<Figure size 432x288 with 1 Axes>"
            ],
            "image/png": "[encoded data removed]"
          },
          "metadata": {
            "needs_background": "light"
          }
        }
      ]
    },
    {
      "cell_type": "markdown",
      "source": [
        "# U2R"
      ],
      "metadata": {
        "id": "pRCW4qd2H6Y3"
      }
    },
    {
      "cell_type": "code",
      "source": [
        "df_train = pd.read_csv('/content/drive/MyDrive/FYP ML/DATA/train_improved.csv', sep=\",\")\n",
        "#df_train = df_train[df_train.columns[:-1]]\n",
        "df_test = pd.read_csv('/content/drive/MyDrive/FYP ML/DATA/test_imp.csv', index_col=0)\n",
        "#df_test = df_test[df_test.columns[:-1]]\n",
        "titles = pd.read_csv('/content/drive/MyDrive/FYP ML/DATA/Field Names.csv', header=None)\n",
        "#titles = titles[titles.columns[:-1]]\n",
        "attack = pd.read_csv('/content/drive/MyDrive/FYP ML/DATA/Attack Types.csv', sep=\",\",header=None)\n",
        "df_test_original = df_test\n",
        "df_train_original = df_train\n",
        "df_train = df_train.drop([\"protocol_type\", \"service\", \"flag\"],axis=1)\n",
        "df_test_original = df_test_original.drop([\"protocol_type\", \"service\", \"flag\"],axis=1)\n",
        "df_test = df_test.drop([\"protocol_type\", \"service\", \"flag\"],axis=1)\n",
        "df_train_original = df_train_original.drop([\"protocol_type\", \"service\", \"flag\"],axis=1)"
      ],
      "metadata": {
        "id": "K-VeTDQeIoGH"
      },
      "execution_count": 437,
      "outputs": []
    },
    {
      "cell_type": "code",
      "source": [
        "u2r_df_train = df_train_original\n",
        "u2r_df_test = df_test_original"
      ],
      "metadata": {
        "id": "Nb5yFn98H_b0"
      },
      "execution_count": 438,
      "outputs": []
    },
    {
      "cell_type": "code",
      "source": [
        "u2r_df_train[\"label\"].unique()"
      ],
      "metadata": {
        "colab": {
          "base_uri": "https://localhost:8080/"
        },
        "id": "5fPbBz8AIHzs",
        "outputId": "046f6b33-de43-48c0-c8c8-324390bed347"
      },
      "execution_count": 439,
      "outputs": [
        {
          "output_type": "execute_result",
          "data": {
            "text/plain": [
              "array(['normal', 'dos', 'r2l', 'probe', 'u2r', 'unknown'], dtype=object)"
            ]
          },
          "metadata": {},
          "execution_count": 439
        }
      ]
    },
    {
      "cell_type": "code",
      "source": [
        "for i in range(len(u2r_df_train)):\n",
        "  if u2r_df_train[\"label\"][i] == \"normal\":\n",
        "    u2r_df_train[\"label\"][i] = 1\n",
        "  elif u2r_df_train[\"label\"][i] == \"dos\":\n",
        "    u2r_df_train[\"label\"][i] = 1\n",
        "  elif u2r_df_train[\"label\"][i] == \"r2l\":\n",
        "    u2r_df_train[\"label\"][i] = 1\n",
        "  elif u2r_df_train[\"label\"][i] == \"probe\":\n",
        "    u2r_df_train[\"label\"][i] = 1\n",
        "  elif u2r_df_train[\"label\"][i] == \"u2r\":\n",
        "    u2r_df_train[\"label\"][i] = 0\n",
        "  else:\n",
        "    u2r_df_train[\"label\"][i] = 1"
      ],
      "metadata": {
        "colab": {
          "base_uri": "https://localhost:8080/"
        },
        "id": "EovwpFMrIIuN",
        "outputId": "6edac834-535e-463f-ce8e-a63cf5d00b8d"
      },
      "execution_count": 440,
      "outputs": [
        {
          "output_type": "stream",
          "name": "stderr",
          "text": [
            "<ipython-input-440-2450930734b9>:3: SettingWithCopyWarning: \n",
            "A value is trying to be set on a copy of a slice from a DataFrame\n",
            "\n",
            "See the caveats in the documentation: https://pandas.pydata.org/pandas-docs/stable/user_guide/indexing.html#returning-a-view-versus-a-copy\n",
            "  u2r_df_train[\"label\"][i] = 1\n",
            "<ipython-input-440-2450930734b9>:5: SettingWithCopyWarning: \n",
            "A value is trying to be set on a copy of a slice from a DataFrame\n",
            "\n",
            "See the caveats in the documentation: https://pandas.pydata.org/pandas-docs/stable/user_guide/indexing.html#returning-a-view-versus-a-copy\n",
            "  u2r_df_train[\"label\"][i] = 1\n",
            "<ipython-input-440-2450930734b9>:7: SettingWithCopyWarning: \n",
            "A value is trying to be set on a copy of a slice from a DataFrame\n",
            "\n",
            "See the caveats in the documentation: https://pandas.pydata.org/pandas-docs/stable/user_guide/indexing.html#returning-a-view-versus-a-copy\n",
            "  u2r_df_train[\"label\"][i] = 1\n",
            "<ipython-input-440-2450930734b9>:9: SettingWithCopyWarning: \n",
            "A value is trying to be set on a copy of a slice from a DataFrame\n",
            "\n",
            "See the caveats in the documentation: https://pandas.pydata.org/pandas-docs/stable/user_guide/indexing.html#returning-a-view-versus-a-copy\n",
            "  u2r_df_train[\"label\"][i] = 1\n",
            "<ipython-input-440-2450930734b9>:11: SettingWithCopyWarning: \n",
            "A value is trying to be set on a copy of a slice from a DataFrame\n",
            "\n",
            "See the caveats in the documentation: https://pandas.pydata.org/pandas-docs/stable/user_guide/indexing.html#returning-a-view-versus-a-copy\n",
            "  u2r_df_train[\"label\"][i] = 0\n",
            "<ipython-input-440-2450930734b9>:13: SettingWithCopyWarning: \n",
            "A value is trying to be set on a copy of a slice from a DataFrame\n",
            "\n",
            "See the caveats in the documentation: https://pandas.pydata.org/pandas-docs/stable/user_guide/indexing.html#returning-a-view-versus-a-copy\n",
            "  u2r_df_train[\"label\"][i] = 1\n"
          ]
        }
      ]
    },
    {
      "cell_type": "code",
      "source": [
        "for i in range(len(u2r_df_test)):\n",
        "  if u2r_df_test[\"label\"][i] == \"normal\":\n",
        "    u2r_df_test[\"label\"][i] = 1\n",
        "  elif u2r_df_test[\"label\"][i] == \"dos\":\n",
        "    u2r_df_test[\"label\"][i] = 1\n",
        "  elif u2r_df_test[\"label\"][i] == \"r2l\":\n",
        "    u2r_df_test[\"label\"][i] = 1\n",
        "  elif u2r_df_test[\"label\"][i] == \"probe\":\n",
        "    u2r_df_test[\"label\"][i] = 1\n",
        "  elif u2r_df_test[\"label\"][i] == \"u2r\":\n",
        "    u2r_df_test[\"label\"][i] = 0\n",
        "  else:\n",
        "    u2r_df_test[\"label\"][i] = 1"
      ],
      "metadata": {
        "colab": {
          "base_uri": "https://localhost:8080/"
        },
        "id": "JRrbs33MIJz1",
        "outputId": "4c00d005-e332-42e7-c942-2532e8092be5"
      },
      "execution_count": 441,
      "outputs": [
        {
          "output_type": "stream",
          "name": "stderr",
          "text": [
            "<ipython-input-441-636cd9f81721>:5: SettingWithCopyWarning: \n",
            "A value is trying to be set on a copy of a slice from a DataFrame\n",
            "\n",
            "See the caveats in the documentation: https://pandas.pydata.org/pandas-docs/stable/user_guide/indexing.html#returning-a-view-versus-a-copy\n",
            "  u2r_df_test[\"label\"][i] = 1\n",
            "<ipython-input-441-636cd9f81721>:3: SettingWithCopyWarning: \n",
            "A value is trying to be set on a copy of a slice from a DataFrame\n",
            "\n",
            "See the caveats in the documentation: https://pandas.pydata.org/pandas-docs/stable/user_guide/indexing.html#returning-a-view-versus-a-copy\n",
            "  u2r_df_test[\"label\"][i] = 1\n",
            "<ipython-input-441-636cd9f81721>:13: SettingWithCopyWarning: \n",
            "A value is trying to be set on a copy of a slice from a DataFrame\n",
            "\n",
            "See the caveats in the documentation: https://pandas.pydata.org/pandas-docs/stable/user_guide/indexing.html#returning-a-view-versus-a-copy\n",
            "  u2r_df_test[\"label\"][i] = 1\n",
            "<ipython-input-441-636cd9f81721>:7: SettingWithCopyWarning: \n",
            "A value is trying to be set on a copy of a slice from a DataFrame\n",
            "\n",
            "See the caveats in the documentation: https://pandas.pydata.org/pandas-docs/stable/user_guide/indexing.html#returning-a-view-versus-a-copy\n",
            "  u2r_df_test[\"label\"][i] = 1\n",
            "<ipython-input-441-636cd9f81721>:9: SettingWithCopyWarning: \n",
            "A value is trying to be set on a copy of a slice from a DataFrame\n",
            "\n",
            "See the caveats in the documentation: https://pandas.pydata.org/pandas-docs/stable/user_guide/indexing.html#returning-a-view-versus-a-copy\n",
            "  u2r_df_test[\"label\"][i] = 1\n",
            "<ipython-input-441-636cd9f81721>:11: SettingWithCopyWarning: \n",
            "A value is trying to be set on a copy of a slice from a DataFrame\n",
            "\n",
            "See the caveats in the documentation: https://pandas.pydata.org/pandas-docs/stable/user_guide/indexing.html#returning-a-view-versus-a-copy\n",
            "  u2r_df_test[\"label\"][i] = 0\n"
          ]
        }
      ]
    },
    {
      "cell_type": "code",
      "source": [
        "print(u2r_df_train[\"label\"].unique())\n",
        "print(u2r_df_test[\"label\"].unique())"
      ],
      "metadata": {
        "colab": {
          "base_uri": "https://localhost:8080/"
        },
        "id": "k3bYToltIK0j",
        "outputId": "b57aacdf-def5-46ec-cf44-c80fb2ce320e"
      },
      "execution_count": 442,
      "outputs": [
        {
          "output_type": "stream",
          "name": "stdout",
          "text": [
            "[1 0]\n",
            "[1 0]\n"
          ]
        }
      ]
    },
    {
      "cell_type": "code",
      "source": [
        "u2r_x_train = u2r_df_train[u2r_df_train.columns[:-1]].values\n",
        "u2r_y_train = u2r_df_train[u2r_df_train.columns[-1]].values.astype('int')\n",
        "u2r_x_test = u2r_df_test[u2r_df_test.columns[:-1]].values\n",
        "u2r_y_test = u2r_df_test[u2r_df_test.columns[-1]].values.astype('int')"
      ],
      "metadata": {
        "id": "ZmeCSncXIMCQ"
      },
      "execution_count": 443,
      "outputs": []
    },
    {
      "cell_type": "code",
      "source": [
        "scaler = StandardScaler()\n",
        "u2r_x_train = scaler.fit_transform(u2r_x_train)\n",
        "u2r_x_test = scaler.transform(u2r_x_test)"
      ],
      "metadata": {
        "id": "tTqF30AlINoS"
      },
      "execution_count": 444,
      "outputs": []
    },
    {
      "cell_type": "markdown",
      "source": [
        "## Log Regression"
      ],
      "metadata": {
        "id": "lU8OPSzLKB04"
      }
    },
    {
      "cell_type": "code",
      "source": [
        "lg_model = LogisticRegression()\n",
        "lg_model = lg_model.fit(u2r_x_train, u2r_y_train)\n",
        "u2r_lr_y_pred = lg_model.predict(u2r_x_test)"
      ],
      "metadata": {
        "colab": {
          "base_uri": "https://localhost:8080/"
        },
        "id": "fGWJCRg5KFb-",
        "outputId": "c46d33fc-f68f-484a-bef9-a288c7cbfd12"
      },
      "execution_count": 445,
      "outputs": [
        {
          "output_type": "stream",
          "name": "stderr",
          "text": [
            "/usr/local/lib/python3.9/dist-packages/sklearn/linear_model/_logistic.py:458: ConvergenceWarning: lbfgs failed to converge (status=1):\n",
            "STOP: TOTAL NO. of ITERATIONS REACHED LIMIT.\n",
            "\n",
            "Increase the number of iterations (max_iter) or scale the data as shown in:\n",
            "    https://scikit-learn.org/stable/modules/preprocessing.html\n",
            "Please also refer to the documentation for alternative solver options:\n",
            "    https://scikit-learn.org/stable/modules/linear_model.html#logistic-regression\n",
            "  n_iter_i = _check_optimize_result(\n"
          ]
        }
      ]
    },
    {
      "cell_type": "code",
      "source": [
        "print(classification_report(u2r_y_test, u2r_lr_y_pred))\n",
        "u2r_lr_mae = mean_absolute_error(u2r_y_test, u2r_lr_y_pred)\n",
        "print(\"Error: \" + str(u2r_lr_mae))\n",
        "u2r_lr_acc = accuracy_score(u2r_y_test, u2r_lr_y_pred)\n",
        "print(\"Accuracy: \" + str(u2r_lr_acc))"
      ],
      "metadata": {
        "colab": {
          "base_uri": "https://localhost:8080/"
        },
        "id": "HHQIFf8aKR7s",
        "outputId": "827bee6a-0793-4d16-ae86-3b1684768c48"
      },
      "execution_count": 446,
      "outputs": [
        {
          "output_type": "stream",
          "name": "stdout",
          "text": [
            "              precision    recall  f1-score   support\n",
            "\n",
            "           0       0.56      0.14      0.22        37\n",
            "           1       1.00      1.00      1.00     22506\n",
            "\n",
            "    accuracy                           1.00     22543\n",
            "   macro avg       0.78      0.57      0.61     22543\n",
            "weighted avg       1.00      1.00      1.00     22543\n",
            "\n",
            "Error: 0.0015969480548285498\n",
            "Accuracy: 0.9984030519451714\n"
          ]
        }
      ]
    },
    {
      "cell_type": "code",
      "source": [
        "plt.subplot(121)\n",
        "plt.scatter(num,u2r_y_test,label=\"Actual\", s=10, color = 'red', alpha=1)\n",
        "plt.subplot(122)\n",
        "plt.scatter(num,u2r_lr_y_pred,label=\"Predicted\", s=10, color = 'blue', alpha=1)\n",
        "plt.suptitle(\"Log Regression\")"
      ],
      "metadata": {
        "colab": {
          "base_uri": "https://localhost:8080/",
          "height": 311
        },
        "id": "X0oBLl-LKTIo",
        "outputId": "a3d20e73-367a-4075-8fca-17503aec9b7b"
      },
      "execution_count": 447,
      "outputs": [
        {
          "output_type": "execute_result",
          "data": {
            "text/plain": [
              "Text(0.5, 0.98, 'Log Regression')"
            ]
          },
          "metadata": {},
          "execution_count": 447
        },
        {
          "output_type": "display_data",
          "data": {
            "text/plain": [
              "<Figure size 432x288 with 2 Axes>"
            ],
            "image/png": "[encoded data removed]"
          },
          "metadata": {
            "needs_background": "light"
          }
        }
      ]
    },
    {
      "cell_type": "markdown",
      "source": [
        "## XGBoost"
      ],
      "metadata": {
        "id": "5TNebDNiL8sD"
      }
    },
    {
      "cell_type": "code",
      "source": [
        "xgb_model = xgb.XGBClassifier()\n",
        "xgb_model.fit(u2r_x_train, u2r_y_train)\n",
        "u2r_xgb_y_pred = xgb_model.predict(u2r_x_test)"
      ],
      "metadata": {
        "id": "HJSRa2tbL_a8"
      },
      "execution_count": 448,
      "outputs": []
    },
    {
      "cell_type": "code",
      "source": [
        "print(classification_report(u2r_y_test, u2r_xgb_y_pred))\n",
        "u2r_xgb_mae = mean_absolute_error(u2r_y_test, u2r_xgb_y_pred)\n",
        "print(\"Error: \" + str(u2r_xgb_mae))\n",
        "u2r_xgb_acc = accuracy_score(u2r_y_test, u2r_xgb_y_pred)\n",
        "print(\"Accuracy: \" + str(u2r_xgb_acc))"
      ],
      "metadata": {
        "colab": {
          "base_uri": "https://localhost:8080/"
        },
        "id": "NniEsCc5MC9u",
        "outputId": "8fe4fa24-8fd8-4e45-cb2f-ab954db4d106"
      },
      "execution_count": 449,
      "outputs": [
        {
          "output_type": "stream",
          "name": "stdout",
          "text": [
            "              precision    recall  f1-score   support\n",
            "\n",
            "           0       0.29      0.05      0.09        37\n",
            "           1       1.00      1.00      1.00     22506\n",
            "\n",
            "    accuracy                           1.00     22543\n",
            "   macro avg       0.64      0.53      0.55     22543\n",
            "weighted avg       1.00      1.00      1.00     22543\n",
            "\n",
            "Error: 0.0017743867275872777\n",
            "Accuracy: 0.9982256132724128\n"
          ]
        }
      ]
    },
    {
      "cell_type": "code",
      "source": [
        "plt.subplot(121)\n",
        "plt.scatter(num,u2r_y_test,label=\"Actual\", s=10, color = 'red', alpha=1)\n",
        "plt.subplot(122)\n",
        "plt.scatter(num,u2r_xgb_y_pred,label=\"Predicted\", s=10, color = 'blue', alpha=1)\n",
        "plt.suptitle(\"XGBoost\")"
      ],
      "metadata": {
        "colab": {
          "base_uri": "https://localhost:8080/",
          "height": 311
        },
        "id": "7__jSf7lMHod",
        "outputId": "cc79767f-c572-43e5-ae76-ad6313f81e90"
      },
      "execution_count": 450,
      "outputs": [
        {
          "output_type": "execute_result",
          "data": {
            "text/plain": [
              "Text(0.5, 0.98, 'XGBoost')"
            ]
          },
          "metadata": {},
          "execution_count": 450
        },
        {
          "output_type": "display_data",
          "data": {
            "text/plain": [
              "<Figure size 432x288 with 2 Axes>"
            ],
            "image/png": "[encoded data removed]"
          },
          "metadata": {
            "needs_background": "light"
          }
        }
      ]
    },
    {
      "cell_type": "code",
      "source": [
        "randommeanlist = [u2r_lr_acc*100, u2r_xgb_acc*100]\n",
        "namerandom = ['Log regression', 'XGBoost']\n",
        "# Graph for RandomForest Nonscaled vs NonScaled data:\n",
        "plt.bar(namerandom,randommeanlist)\n",
        "plt.title(\"u2r\")\n",
        "plt.xlabel(\"Data\")\n",
        "plt.ylabel(\"Accuracy\")"
      ],
      "metadata": {
        "colab": {
          "base_uri": "https://localhost:8080/",
          "height": 312
        },
        "id": "2G4HhqNWMJQ1",
        "outputId": "14498c6e-b534-43fb-8431-eba5df71cd8e"
      },
      "execution_count": 451,
      "outputs": [
        {
          "output_type": "execute_result",
          "data": {
            "text/plain": [
              "Text(0, 0.5, 'Accuracy')"
            ]
          },
          "metadata": {},
          "execution_count": 451
        },
        {
          "output_type": "display_data",
          "data": {
            "text/plain": [
              "<Figure size 432x288 with 1 Axes>"
            ],
            "image/png": "[encoded data removed]"
          },
          "metadata": {
            "needs_background": "light"
          }
        }
      ]
    },
    {
      "cell_type": "code",
      "source": [
        "randommeanlist = [u2r_lr_mae*100, u2r_xgb_mae*100]\n",
        "namerandom = ['Log regression', 'XGBoost']\n",
        "# Graph for RandomForest Nonscaled vs NonScaled data:\n",
        "plt.bar(namerandom,randommeanlist)\n",
        "plt.title(\"u2r\")\n",
        "plt.xlabel(\"Data\")\n",
        "plt.ylabel(\"Mean Average Error\")"
      ],
      "metadata": {
        "colab": {
          "base_uri": "https://localhost:8080/",
          "height": 312
        },
        "id": "n6RVyeS3MKU8",
        "outputId": "373e580d-1ee4-4bad-a0cd-debcf3888bfb"
      },
      "execution_count": 452,
      "outputs": [
        {
          "output_type": "execute_result",
          "data": {
            "text/plain": [
              "Text(0, 0.5, 'Mean Average Error')"
            ]
          },
          "metadata": {},
          "execution_count": 452
        },
        {
          "output_type": "display_data",
          "data": {
            "text/plain": [
              "<Figure size 432x288 with 1 Axes>"
            ],
            "image/png": "[encoded data removed]"
          },
          "metadata": {
            "needs_background": "light"
          }
        }
      ]
    },
    {
      "cell_type": "markdown",
      "source": [
        "# Normal"
      ],
      "metadata": {
        "id": "cXPP_ZGqNqjC"
      }
    },
    {
      "cell_type": "code",
      "source": [
        "df_train = pd.read_csv('/content/drive/MyDrive/FYP ML/DATA/train_improved.csv', sep=\",\")\n",
        "#df_train = df_train[df_train.columns[:-1]]\n",
        "df_test = pd.read_csv('/content/drive/MyDrive/FYP ML/DATA/test_imp.csv', index_col=0)\n",
        "#df_test = df_test[df_test.columns[:-1]]\n",
        "titles = pd.read_csv('/content/drive/MyDrive/FYP ML/DATA/Field Names.csv', header=None)\n",
        "#titles = titles[titles.columns[:-1]]\n",
        "attack = pd.read_csv('/content/drive/MyDrive/FYP ML/DATA/Attack Types.csv', sep=\",\",header=None)\n",
        "df_test_original = df_test\n",
        "df_train_original = df_train\n",
        "df_train = df_train.drop([\"protocol_type\", \"service\", \"flag\"],axis=1)\n",
        "df_test_original = df_test_original.drop([\"protocol_type\", \"service\", \"flag\"],axis=1)\n",
        "df_test = df_test.drop([\"protocol_type\", \"service\", \"flag\"],axis=1)\n",
        "df_train_original = df_train_original.drop([\"protocol_type\", \"service\", \"flag\"],axis=1)"
      ],
      "metadata": {
        "id": "ufbV-WpDNsJA"
      },
      "execution_count": 453,
      "outputs": []
    },
    {
      "cell_type": "code",
      "source": [
        "normal_df_train = df_train_original\n",
        "normal_df_test = df_test_original\n",
        "normal_df_train[\"label\"].unique()"
      ],
      "metadata": {
        "colab": {
          "base_uri": "https://localhost:8080/"
        },
        "id": "T3HUcbhuN3Ym",
        "outputId": "8fe2326e-5563-4008-c2ea-54110f53b4ff"
      },
      "execution_count": 454,
      "outputs": [
        {
          "output_type": "execute_result",
          "data": {
            "text/plain": [
              "array(['normal', 'dos', 'r2l', 'probe', 'u2r', 'unknown'], dtype=object)"
            ]
          },
          "metadata": {},
          "execution_count": 454
        }
      ]
    },
    {
      "cell_type": "code",
      "source": [
        "for i in range(len(normal_df_train)):\n",
        "  if normal_df_train[\"label\"][i] == \"normal\":\n",
        "    normal_df_train[\"label\"][i] = 0\n",
        "  elif normal_df_train[\"label\"][i] == \"dos\":\n",
        "    normal_df_train[\"label\"][i] = 1\n",
        "  elif normal_df_train[\"label\"][i] == \"r2l\":\n",
        "    normal_df_train[\"label\"][i] = 1\n",
        "  elif normal_df_train[\"label\"][i] == \"probe\":\n",
        "    normal_df_train[\"label\"][i] = 1\n",
        "  elif normal_df_train[\"label\"][i] == \"u2r\":\n",
        "    normal_df_train[\"label\"][i] = 1\n",
        "  else:\n",
        "    normal_df_train[\"label\"][i] = 1"
      ],
      "metadata": {
        "colab": {
          "base_uri": "https://localhost:8080/"
        },
        "id": "KQ3SvprvN4Tu",
        "outputId": "5ac8189e-b901-4f2b-e32e-cb24ecc151e7"
      },
      "execution_count": 455,
      "outputs": [
        {
          "output_type": "stream",
          "name": "stderr",
          "text": [
            "<ipython-input-455-1890c1d39055>:3: SettingWithCopyWarning: \n",
            "A value is trying to be set on a copy of a slice from a DataFrame\n",
            "\n",
            "See the caveats in the documentation: https://pandas.pydata.org/pandas-docs/stable/user_guide/indexing.html#returning-a-view-versus-a-copy\n",
            "  normal_df_train[\"label\"][i] = 0\n",
            "<ipython-input-455-1890c1d39055>:5: SettingWithCopyWarning: \n",
            "A value is trying to be set on a copy of a slice from a DataFrame\n",
            "\n",
            "See the caveats in the documentation: https://pandas.pydata.org/pandas-docs/stable/user_guide/indexing.html#returning-a-view-versus-a-copy\n",
            "  normal_df_train[\"label\"][i] = 1\n",
            "<ipython-input-455-1890c1d39055>:7: SettingWithCopyWarning: \n",
            "A value is trying to be set on a copy of a slice from a DataFrame\n",
            "\n",
            "See the caveats in the documentation: https://pandas.pydata.org/pandas-docs/stable/user_guide/indexing.html#returning-a-view-versus-a-copy\n",
            "  normal_df_train[\"label\"][i] = 1\n",
            "<ipython-input-455-1890c1d39055>:9: SettingWithCopyWarning: \n",
            "A value is trying to be set on a copy of a slice from a DataFrame\n",
            "\n",
            "See the caveats in the documentation: https://pandas.pydata.org/pandas-docs/stable/user_guide/indexing.html#returning-a-view-versus-a-copy\n",
            "  normal_df_train[\"label\"][i] = 1\n",
            "<ipython-input-455-1890c1d39055>:11: SettingWithCopyWarning: \n",
            "A value is trying to be set on a copy of a slice from a DataFrame\n",
            "\n",
            "See the caveats in the documentation: https://pandas.pydata.org/pandas-docs/stable/user_guide/indexing.html#returning-a-view-versus-a-copy\n",
            "  normal_df_train[\"label\"][i] = 1\n",
            "<ipython-input-455-1890c1d39055>:13: SettingWithCopyWarning: \n",
            "A value is trying to be set on a copy of a slice from a DataFrame\n",
            "\n",
            "See the caveats in the documentation: https://pandas.pydata.org/pandas-docs/stable/user_guide/indexing.html#returning-a-view-versus-a-copy\n",
            "  normal_df_train[\"label\"][i] = 1\n"
          ]
        }
      ]
    },
    {
      "cell_type": "code",
      "source": [
        "for i in range(len(normal_df_test)):\n",
        "  if normal_df_test[\"label\"][i] == \"normal\":\n",
        "    normal_df_test[\"label\"][i] = 0\n",
        "  elif normal_df_test[\"label\"][i] == \"dos\":\n",
        "    normal_df_test[\"label\"][i] = 1\n",
        "  elif normal_df_test[\"label\"][i] == \"r2l\":\n",
        "    normal_df_test[\"label\"][i] = 1\n",
        "  elif normal_df_test[\"label\"][i] == \"probe\":\n",
        "    normal_df_test[\"label\"][i] = 1\n",
        "  elif normal_df_test[\"label\"][i] == \"u2r\":\n",
        "    normal_df_test[\"label\"][i] = 1\n",
        "  else:\n",
        "    normal_df_test[\"label\"][i] = 1"
      ],
      "metadata": {
        "colab": {
          "base_uri": "https://localhost:8080/"
        },
        "id": "8aYLRoy_N7Ux",
        "outputId": "09c1f62e-5e31-46c6-d5b8-9b80977eb893"
      },
      "execution_count": 456,
      "outputs": [
        {
          "output_type": "stream",
          "name": "stderr",
          "text": [
            "<ipython-input-456-a9c0e9e0c75a>:5: SettingWithCopyWarning: \n",
            "A value is trying to be set on a copy of a slice from a DataFrame\n",
            "\n",
            "See the caveats in the documentation: https://pandas.pydata.org/pandas-docs/stable/user_guide/indexing.html#returning-a-view-versus-a-copy\n",
            "  normal_df_test[\"label\"][i] = 1\n",
            "<ipython-input-456-a9c0e9e0c75a>:3: SettingWithCopyWarning: \n",
            "A value is trying to be set on a copy of a slice from a DataFrame\n",
            "\n",
            "See the caveats in the documentation: https://pandas.pydata.org/pandas-docs/stable/user_guide/indexing.html#returning-a-view-versus-a-copy\n",
            "  normal_df_test[\"label\"][i] = 0\n",
            "<ipython-input-456-a9c0e9e0c75a>:13: SettingWithCopyWarning: \n",
            "A value is trying to be set on a copy of a slice from a DataFrame\n",
            "\n",
            "See the caveats in the documentation: https://pandas.pydata.org/pandas-docs/stable/user_guide/indexing.html#returning-a-view-versus-a-copy\n",
            "  normal_df_test[\"label\"][i] = 1\n",
            "<ipython-input-456-a9c0e9e0c75a>:7: SettingWithCopyWarning: \n",
            "A value is trying to be set on a copy of a slice from a DataFrame\n",
            "\n",
            "See the caveats in the documentation: https://pandas.pydata.org/pandas-docs/stable/user_guide/indexing.html#returning-a-view-versus-a-copy\n",
            "  normal_df_test[\"label\"][i] = 1\n",
            "<ipython-input-456-a9c0e9e0c75a>:9: SettingWithCopyWarning: \n",
            "A value is trying to be set on a copy of a slice from a DataFrame\n",
            "\n",
            "See the caveats in the documentation: https://pandas.pydata.org/pandas-docs/stable/user_guide/indexing.html#returning-a-view-versus-a-copy\n",
            "  normal_df_test[\"label\"][i] = 1\n",
            "<ipython-input-456-a9c0e9e0c75a>:11: SettingWithCopyWarning: \n",
            "A value is trying to be set on a copy of a slice from a DataFrame\n",
            "\n",
            "See the caveats in the documentation: https://pandas.pydata.org/pandas-docs/stable/user_guide/indexing.html#returning-a-view-versus-a-copy\n",
            "  normal_df_test[\"label\"][i] = 1\n"
          ]
        }
      ]
    },
    {
      "cell_type": "code",
      "source": [
        "print(normal_df_train[\"label\"].unique())\n",
        "print(normal_df_test[\"label\"].unique())"
      ],
      "metadata": {
        "colab": {
          "base_uri": "https://localhost:8080/"
        },
        "id": "SYgNIk1BN8Ws",
        "outputId": "de04ca43-a536-4a9b-9b71-22666207d111"
      },
      "execution_count": 457,
      "outputs": [
        {
          "output_type": "stream",
          "name": "stdout",
          "text": [
            "[0 1]\n",
            "[1 0]\n"
          ]
        }
      ]
    },
    {
      "cell_type": "code",
      "source": [
        "normal_x_train = normal_df_train[normal_df_train.columns[:-1]].values\n",
        "normal_y_train = normal_df_train[normal_df_train.columns[-1]].values.astype('int')\n",
        "normal_x_test = normal_df_test[normal_df_test.columns[:-1]].values\n",
        "normal_y_test = normal_df_test[normal_df_test.columns[-1]].values.astype('int')\n",
        "scaler = StandardScaler()\n",
        "normal_x_train = scaler.fit_transform(normal_x_train)\n",
        "normal_x_test = scaler.transform(normal_x_test)"
      ],
      "metadata": {
        "id": "6ThvAIqcN9u_"
      },
      "execution_count": 458,
      "outputs": []
    },
    {
      "cell_type": "markdown",
      "source": [
        "## Log Regression"
      ],
      "metadata": {
        "id": "U29Y4ESaOXCV"
      }
    },
    {
      "cell_type": "code",
      "source": [
        "lg_model = LogisticRegression()\n",
        "lg_model = lg_model.fit(normal_x_train, normal_y_train)\n",
        "normal_lr_y_pred = lg_model.predict(normal_x_test)"
      ],
      "metadata": {
        "colab": {
          "base_uri": "https://localhost:8080/"
        },
        "id": "OzdV5abeOZle",
        "outputId": "e9d8d510-5a42-4c16-89cd-94649c91dda1"
      },
      "execution_count": 459,
      "outputs": [
        {
          "output_type": "stream",
          "name": "stderr",
          "text": [
            "/usr/local/lib/python3.9/dist-packages/sklearn/linear_model/_logistic.py:458: ConvergenceWarning: lbfgs failed to converge (status=1):\n",
            "STOP: TOTAL NO. of ITERATIONS REACHED LIMIT.\n",
            "\n",
            "Increase the number of iterations (max_iter) or scale the data as shown in:\n",
            "    https://scikit-learn.org/stable/modules/preprocessing.html\n",
            "Please also refer to the documentation for alternative solver options:\n",
            "    https://scikit-learn.org/stable/modules/linear_model.html#logistic-regression\n",
            "  n_iter_i = _check_optimize_result(\n"
          ]
        }
      ]
    },
    {
      "cell_type": "code",
      "source": [
        "print(classification_report(normal_y_test, normal_lr_y_pred))\n",
        "normal_lr_mae = mean_absolute_error(normal_y_test, normal_lr_y_pred)\n",
        "print(\"Error: \" + str(normal_lr_mae))\n",
        "normal_lr_acc = accuracy_score(normal_y_test, normal_lr_y_pred)\n",
        "print(\"Accuracy: \" + str(normal_lr_acc))"
      ],
      "metadata": {
        "colab": {
          "base_uri": "https://localhost:8080/"
        },
        "id": "L-gbRBxIOa28",
        "outputId": "1727f9e2-f722-4b07-a124-8d2443c2fe19"
      },
      "execution_count": 460,
      "outputs": [
        {
          "output_type": "stream",
          "name": "stdout",
          "text": [
            "              precision    recall  f1-score   support\n",
            "\n",
            "           0       0.65      0.93      0.76      9710\n",
            "           1       0.92      0.62      0.74     12833\n",
            "\n",
            "    accuracy                           0.75     22543\n",
            "   macro avg       0.78      0.77      0.75     22543\n",
            "weighted avg       0.80      0.75      0.75     22543\n",
            "\n",
            "Error: 0.2475713081666149\n",
            "Accuracy: 0.7524286918333851\n"
          ]
        }
      ]
    },
    {
      "cell_type": "code",
      "source": [
        "plt.subplot(121)\n",
        "plt.scatter(num,normal_y_test,label=\"Actual\", s=10, color = 'red', alpha=1)\n",
        "plt.subplot(122)\n",
        "plt.scatter(num,normal_lr_y_pred,label=\"Predicted\", s=10, color = 'blue', alpha=1)\n",
        "plt.suptitle(\"Log Regression\")"
      ],
      "metadata": {
        "colab": {
          "base_uri": "https://localhost:8080/",
          "height": 311
        },
        "id": "ghY7yNmEObqG",
        "outputId": "e61b20b4-306d-4cff-8fec-13ae74be8d24"
      },
      "execution_count": 461,
      "outputs": [
        {
          "output_type": "execute_result",
          "data": {
            "text/plain": [
              "Text(0.5, 0.98, 'Log Regression')"
            ]
          },
          "metadata": {},
          "execution_count": 461
        },
        {
          "output_type": "display_data",
          "data": {
            "text/plain": [
              "<Figure size 432x288 with 2 Axes>"
            ],
            "image/png": "[encoded data removed]"
          },
          "metadata": {
            "needs_background": "light"
          }
        }
      ]
    },
    {
      "cell_type": "markdown",
      "source": [
        "## XGBoost"
      ],
      "metadata": {
        "id": "MKc87-BUPI0k"
      }
    },
    {
      "cell_type": "code",
      "source": [
        "xgb_model = xgb.XGBClassifier()\n",
        "xgb_model.fit(normal_x_train, normal_y_train)\n",
        "normal_xgb_y_pred = xgb_model.predict(normal_x_test)"
      ],
      "metadata": {
        "id": "nuE9B3vhPLsc"
      },
      "execution_count": 462,
      "outputs": []
    },
    {
      "cell_type": "code",
      "source": [
        "print(classification_report(normal_y_test, normal_xgb_y_pred))\n",
        "normal_xgb_mae = mean_absolute_error(normal_y_test, normal_xgb_y_pred)\n",
        "print(\"Error: \" + str(normal_xgb_mae))\n",
        "normal_xgb_acc = accuracy_score(normal_y_test, normal_xgb_y_pred)\n",
        "print(\"Accuracy: \" + str(normal_xgb_acc))"
      ],
      "metadata": {
        "colab": {
          "base_uri": "https://localhost:8080/"
        },
        "id": "XKxdVvcHPPXP",
        "outputId": "62284fa9-dd2e-45b4-b604-b58f9b082dc9"
      },
      "execution_count": 463,
      "outputs": [
        {
          "output_type": "stream",
          "name": "stdout",
          "text": [
            "              precision    recall  f1-score   support\n",
            "\n",
            "           0       0.80      0.96      0.88      9710\n",
            "           1       0.97      0.82      0.89     12833\n",
            "\n",
            "    accuracy                           0.88     22543\n",
            "   macro avg       0.89      0.89      0.88     22543\n",
            "weighted avg       0.90      0.88      0.88     22543\n",
            "\n",
            "Error: 0.11648848866610478\n",
            "Accuracy: 0.8835115113338953\n"
          ]
        }
      ]
    },
    {
      "cell_type": "code",
      "source": [
        "plt.subplot(121)\n",
        "plt.scatter(num,normal_y_test,label=\"Actual\", s=10, color = 'red', alpha=1)\n",
        "plt.subplot(122)\n",
        "plt.scatter(num,normal_xgb_y_pred,label=\"Predicted\", s=10, color = 'blue', alpha=1)\n",
        "plt.suptitle(\"XGBoost\")"
      ],
      "metadata": {
        "colab": {
          "base_uri": "https://localhost:8080/",
          "height": 311
        },
        "id": "zw6SGLZxPQIM",
        "outputId": "7185e6f4-78d1-4033-a5da-a92d253f41a4"
      },
      "execution_count": 464,
      "outputs": [
        {
          "output_type": "execute_result",
          "data": {
            "text/plain": [
              "Text(0.5, 0.98, 'XGBoost')"
            ]
          },
          "metadata": {},
          "execution_count": 464
        },
        {
          "output_type": "display_data",
          "data": {
            "text/plain": [
              "<Figure size 432x288 with 2 Axes>"
            ],
            "image/png": "[encoded data removed]"
          },
          "metadata": {
            "needs_background": "light"
          }
        }
      ]
    },
    {
      "cell_type": "code",
      "source": [
        "randommeanlist = [normal_lr_acc*100, normal_xgb_acc*100]\n",
        "namerandom = ['Log regression', 'XGBoost']\n",
        "# Graph for RandomForest Nonscaled vs NonScaled data:\n",
        "plt.bar(namerandom,randommeanlist)\n",
        "plt.title(\"normal\")\n",
        "plt.xlabel(\"Data\")\n",
        "plt.ylabel(\"Accuracy\")"
      ],
      "metadata": {
        "colab": {
          "base_uri": "https://localhost:8080/",
          "height": 312
        },
        "id": "TXjYiBwqPRTW",
        "outputId": "1128744d-6cca-49ed-97ef-c5a79466ee6c"
      },
      "execution_count": 465,
      "outputs": [
        {
          "output_type": "execute_result",
          "data": {
            "text/plain": [
              "Text(0, 0.5, 'Accuracy')"
            ]
          },
          "metadata": {},
          "execution_count": 465
        },
        {
          "output_type": "display_data",
          "data": {
            "text/plain": [
              "<Figure size 432x288 with 1 Axes>"
            ],
            "image/png": "[encoded data removed]"
          },
          "metadata": {
            "needs_background": "light"
          }
        }
      ]
    },
    {
      "cell_type": "code",
      "source": [
        "randommeanlist = [normal_lr_mae*100, normal_xgb_mae*100]\n",
        "namerandom = ['Log regression', 'XGBoost']\n",
        "# Graph for RandomForest Nonscaled vs NonScaled data:\n",
        "plt.bar(namerandom,randommeanlist)\n",
        "plt.title(\"normal\")\n",
        "plt.xlabel(\"Data\")\n",
        "plt.ylabel(\"Mean Average Error\")"
      ],
      "metadata": {
        "colab": {
          "base_uri": "https://localhost:8080/",
          "height": 312
        },
        "id": "agmtdXe9PS10",
        "outputId": "a01e5132-8f98-42b3-b16a-d62cb39106a0"
      },
      "execution_count": 466,
      "outputs": [
        {
          "output_type": "execute_result",
          "data": {
            "text/plain": [
              "Text(0, 0.5, 'Mean Average Error')"
            ]
          },
          "metadata": {},
          "execution_count": 466
        },
        {
          "output_type": "display_data",
          "data": {
            "text/plain": [
              "<Figure size 432x288 with 1 Axes>"
            ],
            "image/png": "[encoded data removed]"
          },
          "metadata": {
            "needs_background": "light"
          }
        }
      ]
    },
    {
      "cell_type": "markdown",
      "source": [
        "# results"
      ],
      "metadata": {
        "id": "lAEp2_DLR0od"
      }
    },
    {
      "cell_type": "code",
      "source": [
        "randommeanlist = [dos_xgb_acc*100, r2l_xgb_acc*100, probe_xgb_acc*100, u2r_xgb_acc*100, normal_xgb_acc*100]\n",
        "namerandom = ['DDOS', 'R2L', 'Probe', 'U2R', 'Normal']\n",
        "# Graph for RandomForest Nonscaled vs NonScaled data:\n",
        "plt.bar(namerandom,randommeanlist)\n",
        "plt.title(\"XGBoost\")\n",
        "plt.xlabel(\"Data\")\n",
        "plt.ylabel(\"Accuracy\")\n",
        "print(\"DDOS: \" + str(dos_xgb_acc))\n",
        "print(\"R2L: \" + str(r2l_xgb_acc))\n",
        "print(\"Probe: \" + str(probe_xgb_acc))\n",
        "print(\"U2R: \" + str(u2r_xgb_acc))\n",
        "print(\"Normal: \" + str(normal_xgb_acc))"
      ],
      "metadata": {
        "colab": {
          "base_uri": "https://localhost:8080/",
          "height": 382
        },
        "id": "xxnWKvitR2jF",
        "outputId": "c6b090d8-5f64-48a2-da64-ed23c00bba93"
      },
      "execution_count": 467,
      "outputs": [
        {
          "output_type": "stream",
          "name": "stdout",
          "text": [
            "DDOS: 0.9849177128155081\n",
            "R2L: 0.9079093288382203\n",
            "Probe: 0.9822117730559375\n",
            "U2R: 0.9982256132724128\n",
            "Normal: 0.8835115113338953\n"
          ]
        },
        {
          "output_type": "display_data",
          "data": {
            "text/plain": [
              "<Figure size 432x288 with 1 Axes>"
            ],
            "image/png": "[encoded data removed]"
          },
          "metadata": {
            "needs_background": "light"
          }
        }
      ]
    }
  ]
}