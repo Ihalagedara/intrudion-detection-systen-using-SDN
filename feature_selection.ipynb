{
  "nbformat": 4,
  "nbformat_minor": 0,
  "metadata": {
    "colab": {
      "provenance": [],
      "authorship_tag": "ABX9TyMLPOAlfCHr2ZATrujB4lXE",
      "include_colab_link": true
    },
    "kernelspec": {
      "name": "python3",
      "display_name": "Python 3"
    },
    "language_info": {
      "name": "python"
    }
  },
  "cells": [
    {
      "cell_type": "markdown",
      "metadata": {
        "id": "view-in-github",
        "colab_type": "text"
      },
      "source": [
        "<a href=\"https://colab.research.google.com/github/Ihalagedara/intrudion-detection-systen-using-SDN/blob/main/feature_selection.ipynb\" target=\"_parent\"><img src=\"https://colab.research.google.com/assets/colab-badge.svg\" alt=\"Open In Colab\"/></a>"
      ]
    },
    {
      "cell_type": "code",
      "execution_count": null,
      "metadata": {
        "colab": {
          "base_uri": "https://localhost:8080/"
        },
        "id": "u0YGe4wIVMxX",
        "outputId": "b6fda2e5-e157-42ca-b0bb-939a80c9bf15"
      },
      "outputs": [
        {
          "output_type": "stream",
          "name": "stdout",
          "text": [
            "Mounted at /content/drive\n"
          ]
        }
      ],
      "source": [
        "from google.colab import drive\n",
        "drive.mount('/content/drive')"
      ]
    },
    {
      "cell_type": "code",
      "source": [
        "import numpy as np\n",
        "import pandas as pd\n",
        "from sklearn.model_selection import train_test_split\n",
        "from sklearn.preprocessing import StandardScaler"
      ],
      "metadata": {
        "id": "dGkXrKLtVUQU"
      },
      "execution_count": null,
      "outputs": []
    },
    {
      "cell_type": "code",
      "source": [
        "data = pd.read_csv('/content/drive/MyDrive/FYP ML/InSDN_DatasetCSV/new_dataset.csv', sep=\",\")"
      ],
      "metadata": {
        "id": "0fCOMyFUVVyQ"
      },
      "execution_count": null,
      "outputs": []
    },
    {
      "cell_type": "code",
      "source": [
        "data = data.drop([\"Flow ID\", \"Src IP\", \"Src Port\", \"Dst IP\", \"Dst Port\", \"Timestamp\"],axis=1)"
      ],
      "metadata": {
        "id": "aewjzklKVgh4"
      },
      "execution_count": null,
      "outputs": []
    },
    {
      "cell_type": "code",
      "source": [
        "y_train = data[\"Label\"]\n",
        "X_train = data.drop([\"Label\"],axis=1)"
      ],
      "metadata": {
        "id": "HFru_o5cVxDI"
      },
      "execution_count": null,
      "outputs": []
    },
    {
      "cell_type": "code",
      "source": [
        "features = X_train.columns.tolist()"
      ],
      "metadata": {
        "id": "EDQBPxMSasNo"
      },
      "execution_count": null,
      "outputs": []
    },
    {
      "cell_type": "code",
      "source": [
        "from sklearn.preprocessing import LabelEncoder\n",
        "obj = LabelEncoder()\n",
        "y_train = obj.fit_transform(y_train)"
      ],
      "metadata": {
        "id": "EC86HjuzWg5B"
      },
      "execution_count": null,
      "outputs": []
    },
    {
      "cell_type": "markdown",
      "source": [
        "### Backward Elimination:"
      ],
      "metadata": {
        "id": "Gfa9b1cceDlU"
      }
    },
    {
      "cell_type": "code",
      "source": [
        "from sklearn.feature_selection import RFE\n",
        "from sklearn.linear_model import LinearRegression\n",
        "\n",
        "def backward_elimination(X, y, num_features):\n",
        "    estimator = LinearRegression()\n",
        "    selector = RFE(estimator, n_features_to_select=num_features, step=1)\n",
        "    selector = selector.fit(X, y)\n",
        "    selected_features = selector.support_\n",
        "\n",
        "    return selected_features\n",
        "\n",
        "# Usage:\n",
        "selected_features = backward_elimination(X_train, y_train, num_features=5)\n",
        "\n",
        "\n",
        "new = []\n",
        "for i in range(len(features)):\n",
        "  if selected_features[i] == True:\n",
        "    new.append(features[i])\n",
        "    \n",
        "print(new)\n",
        "#X_train_selected = X_train[:, selected_features]\n",
        "#X_test_selected = X_test[:, selected_features]\n"
      ],
      "metadata": {
        "colab": {
          "base_uri": "https://localhost:8080/"
        },
        "id": "XPMHTquHVOkK",
        "outputId": "183ae9a9-2b86-48c8-d940-88e98d5ab1e9"
      },
      "execution_count": null,
      "outputs": [
        {
          "output_type": "stream",
          "name": "stdout",
          "text": [
            "['Tot Fwd Pkts', 'Fwd Pkt Len Mean', 'Bwd Pkt Len Mean', 'Fwd Seg Size Avg', 'Subflow Fwd Pkts']\n"
          ]
        }
      ]
    },
    {
      "cell_type": "markdown",
      "source": [
        "### Tree-based Feature Selection:"
      ],
      "metadata": {
        "id": "Q-gHFprTeB9I"
      }
    },
    {
      "cell_type": "code",
      "source": [
        "from sklearn.ensemble import RandomForestClassifier\n",
        "\n",
        "def tree_based_feature_selection(X, y, num_features):\n",
        "    model = RandomForestClassifier()\n",
        "    model.fit(X, y)\n",
        "    importances = model.feature_importances_\n",
        "    indices = np.argsort(importances)[::-1]\n",
        "    selected_features = indices[:num_features]\n",
        "\n",
        "    return selected_features\n",
        "\n",
        "# Usage:\n",
        "selected_features = tree_based_feature_selection(X_train, y_train, num_features=5)\n",
        "new = []\n",
        "for i in selected_features:\n",
        "  new.append(features[i])\n",
        "print(new)\n",
        "#X_train_selected = X_train[:, selected_features]\n",
        "#X_test_selected = X_test[:, selected_features]\n"
      ],
      "metadata": {
        "colab": {
          "base_uri": "https://localhost:8080/"
        },
        "id": "HZMZHTETVRoD",
        "outputId": "c3fd4451-a79f-40f3-9385-c02b0755c164"
      },
      "execution_count": null,
      "outputs": [
        {
          "output_type": "stream",
          "name": "stdout",
          "text": [
            "['Init Bwd Win Byts', 'Bwd Header Len', 'Protocol', 'Bwd Pkts/s', 'Flow IAT Max']\n"
          ]
        }
      ]
    }
  ]
}